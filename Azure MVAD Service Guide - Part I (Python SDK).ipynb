{
 "cells": [
  {
   "cell_type": "markdown",
   "metadata": {
    "application/vnd.databricks.v1+cell": {
     "cellMetadata": {},
     "inputWidgets": {},
     "nuid": "ac3bc70c-a0f6-4bbf-b756-4f50345306d8",
     "showTitle": false,
     "title": ""
    }
   },
   "source": [
    "# Azure MVAD Service Guide - Part I (Python SDK)"
   ]
  },
  {
   "cell_type": "markdown",
   "metadata": {
    "application/vnd.databricks.v1+cell": {
     "cellMetadata": {},
     "inputWidgets": {},
     "nuid": "4a2f022a-c2d9-499e-bc0d-504ebd0ef585",
     "showTitle": false,
     "title": ""
    }
   },
   "source": [
    "What follows is a guide via example on how to use Azure's MVAD Service. Make sure to check the service's documentation [here](https://learn.microsoft.com/en-us/azure/cognitive-services/anomaly-detector/overview), as well as the code provided [here](https://github.com/Azure-Samples/AnomalyDetector). Note that there are two approaches to using the MVAD Service: via the SDK and via the API. The former is presented in this notebook."
   ]
  },
  {
   "cell_type": "markdown",
   "metadata": {
    "application/vnd.databricks.v1+cell": {
     "cellMetadata": {},
     "inputWidgets": {},
     "nuid": "57c80df9-e7ec-4299-9f0f-50c8933c5084",
     "showTitle": false,
     "title": ""
    }
   },
   "source": [
    "## Initial Setup\n",
    "\n",
    "To use the MVAD Service we obviously need to create an [Anomaly Detector subscription](https://azure.microsoft.com/en-us/free/cognitive-services/), as well as create an [Anomaly Detector resource](https://ms.portal.azure.com/#create/Microsoft.CognitiveServicesAnomalyDetector). From the created resource, we need the endpoint's name, as well as the key. For safety, the key can be inserted into an Azure Key Vault and read from there by creating a [secret scope in Databricks](https://learn.microsoft.com/en-us/azure/databricks/security/secrets/secret-scopes). Additionally, a Storage Account is required, from where the data are drawn to perform anomaly detection. The MVAD Service (Managed Identity) must have the Storage Blob Data Reader role assigned to it in order to be able to draw data from the Storage Account.\n",
    "\n",
    "For the purposes of the present demonstration, we create a new Container named `test-mvad` in the Storage Account present in the same resource group and send the [sample data](https://github.com/Azure-Samples/AnomalyDetector/blob/master/sampledata/multivariate/multivariate_sample_data.csv) that are going to be used as an example. The MVAD Service accepts data in both multi-table (one `.csv` file for each feature) and single-table (a single `.csv` file with multiple columns, one per feature plus the timestamp columns) forms, but we opt to work with the single-table approach."
   ]
  },
  {
   "cell_type": "code",
   "execution_count": null,
   "metadata": {
    "application/vnd.databricks.v1+cell": {
     "cellMetadata": {
      "byteLimit": 2048000,
      "rowLimit": 10000
     },
     "inputWidgets": {},
     "nuid": "6c198ed7-ce28-4aa2-830f-1f38bcc3d73f",
     "showTitle": false,
     "title": ""
    }
   },
   "outputs": [],
   "source": [
    "import time\n",
    "import pandas as pd"
   ]
  },
  {
   "cell_type": "markdown",
   "metadata": {
    "application/vnd.databricks.v1+cell": {
     "cellMetadata": {
      "byteLimit": 2048000,
      "rowLimit": 10000
     },
     "inputWidgets": {},
     "nuid": "63225480-c85f-453d-aeb7-379ccd449080",
     "showTitle": false,
     "title": ""
    }
   },
   "source": [
    "The following library needs to be installed. Note that its installation can be attached to the startup of a specific cluster that runs the present notebook, or to a script that is activated whenever the cluster starts."
   ]
  },
  {
   "cell_type": "code",
   "execution_count": null,
   "metadata": {
    "application/vnd.databricks.v1+cell": {
     "cellMetadata": {
      "byteLimit": 2048000,
      "rowLimit": 10000
     },
     "inputWidgets": {},
     "nuid": "c5c5a93b-0126-45a5-be13-0c35a9bbc3b9",
     "showTitle": false,
     "title": ""
    }
   },
   "outputs": [],
   "source": [
    "#!pip install --upgrade azure-ai-anomalydetector"
   ]
  },
  {
   "cell_type": "markdown",
   "metadata": {
    "application/vnd.databricks.v1+cell": {
     "cellMetadata": {},
     "inputWidgets": {},
     "nuid": "ff9fa5ad-2dd9-49f9-a345-049260744a3c",
     "showTitle": false,
     "title": ""
    }
   },
   "source": [
    "## Setup\n",
    "\n",
    "First, we import the needed modules and then create a client for the anomaly detector service."
   ]
  },
  {
   "cell_type": "code",
   "execution_count": null,
   "metadata": {
    "application/vnd.databricks.v1+cell": {
     "cellMetadata": {
      "byteLimit": 2048000,
      "rowLimit": 10000
     },
     "inputWidgets": {},
     "nuid": "c3db20d3-89df-482a-b68d-3bb8d5244636",
     "showTitle": false,
     "title": ""
    }
   },
   "outputs": [],
   "source": [
    "from azure.ai.anomalydetector import AnomalyDetectorClient\n",
    "from azure.core.credentials import AzureKeyCredential\n",
    "from azure.ai.anomalydetector.models import ModelInfo, AlignPolicy, AlignMode, FillNAMethod, MultivariateBatchDetectionOptions"
   ]
  },
  {
   "cell_type": "code",
   "execution_count": null,
   "metadata": {
    "application/vnd.databricks.v1+cell": {
     "cellMetadata": {
      "byteLimit": 2048000,
      "rowLimit": 10000
     },
     "inputWidgets": {},
     "nuid": "94d2d227-e2b1-4fee-80f5-148d4fa87a7f",
     "showTitle": false,
     "title": ""
    }
   },
   "outputs": [],
   "source": [
    "ad_name = \"REDACTED\"\n",
    "ANOMALY_DETECTOR_ENDPOINT= f\"https://{ad_name}.cognitiveservices.azure.com/\"\n",
    "# The key is stored in the Vault for safety\n",
    "SUBSCRIPTION_KEY = dbutils.secrets.get(scope = \"anomdet\", key = \"adkey\")\n",
    "\n",
    "# Setup the AD client\n",
    "ad_client = AnomalyDetectorClient(ANOMALY_DETECTOR_ENDPOINT, AzureKeyCredential(SUBSCRIPTION_KEY))"
   ]
  },
  {
   "cell_type": "markdown",
   "metadata": {
    "application/vnd.databricks.v1+cell": {
     "cellMetadata": {
      "byteLimit": 2048000,
      "rowLimit": 10000
     },
     "inputWidgets": {},
     "nuid": "956dfd83-be7e-4247-afbd-31040a13b8fa",
     "showTitle": false,
     "title": ""
    }
   },
   "source": [
    "## Basic Functionalities\n",
    "\n",
    "With the client created, we can proceed to see some of the basic functionalities of the MVAD Service.\n",
    "\n",
    "### Training\n",
    "\n",
    "The first and perhaps most important one is the training of the model. This is done using the `train_multivariate_model()` method, which takes a `ModelInfo` object as its argument. A `ModelInfo` object is a custom `anomalydetector.models` object that corresponds to the training objective and result of an AD model, including its status, errors and diagnostics information. Its arguments can be seen in the next code cell, where one such object is defined to be used as the argument of the `train_multivariate_model()` method."
   ]
  },
  {
   "cell_type": "code",
   "execution_count": null,
   "metadata": {
    "application/vnd.databricks.v1+cell": {
     "cellMetadata": {
      "byteLimit": 2048000,
      "rowLimit": 10000
     },
     "inputWidgets": {},
     "nuid": "ed5aa1d4-baea-428d-acb1-455747c4237e",
     "showTitle": false,
     "title": ""
    }
   },
   "outputs": [],
   "source": [
    "storage_name = \"REDACTED\"\n",
    "container_name = \"test-mvad\"\n",
    "data_file_name = \"sample.csv\"\n",
    "\n",
    "DATA_URL = f\"https://{storage_name}.blob.core.windows.net/{container_name}/{data_file_name}\"\n",
    "\n",
    "train_start = \"2021-02-18T13:50:00Z\"\n",
    "train_end = \"2021-03-23T10:00:00Z\"\n",
    "\n",
    "train_body = ModelInfo(\n",
    "        # required - source link to the input data to indicate an accessible Azure storage URI\n",
    "        data_source = DATA_URL,\n",
    "        # Data schema of input data source: OneTable or MultiTable. The default DataSchema is OneTable\n",
    "        data_schema = \"OneTable\",\n",
    "        # required - indicates the start time of training data, which should be date-time of ISO 8601 format\n",
    "        start_time=train_start,\n",
    "        # required - indicates the end time of training data, which should be date-time of ISO 8601 format\n",
    "        end_time=train_end,\n",
    "        # The display name of the model (max length is 24 characters).\n",
    "        display_name=\"sample_model\",\n",
    "        # An optional field, indicating how many previous timestamps will be used to detect whether a timestamp is an anomaly or not\n",
    "        sliding_window=200,\n",
    "        # An optional field, indicating the manner to align multiple variables.\n",
    "        # More info about the AlignPolicy method can be found below\n",
    "        align_policy=AlignPolicy(\n",
    "            align_mode=AlignMode.OUTER,\n",
    "            fill_n_a_method=FillNAMethod.LINEAR,\n",
    "            padding_value=0,\n",
    "        ),\n",
    "    )"
   ]
  },
  {
   "cell_type": "markdown",
   "metadata": {
    "application/vnd.databricks.v1+cell": {
     "cellMetadata": {},
     "inputWidgets": {},
     "nuid": "77caec50-30c3-43d3-a361-28c7ce6cd88e",
     "showTitle": false,
     "title": ""
    }
   },
   "source": [
    "Here is the documentation for the `AlignPolicy` method.\n",
    "\n",
    "```\n",
    "class AlignPolicy(_model_base.Model):\n",
    "    An optional field, indicating the manner to align multiple variables.\n",
    "\n",
    "    - align_mode: An optional field, indicating how to align different variables to the same\n",
    "        time-range. Either Inner or Outer. Known values are: \"Inner\" and \"Outer\".\n",
    "        \n",
    "    - fill_n_a_method: An optional field, indicating how missing values will be filled. One of\n",
    "        Previous, Subsequent, Linear, Zero, Fixed. Known values are: \"Previous\", \"Subsequent\",\n",
    "        \"Linear\", \"Zero\", and \"Fixed\".\n",
    "        \n",
    "    - padding_value: An optional field. Required when fillNAMethod is Fixed.\n",
    "```\n",
    "\n",
    "Using the `train_body` parameter, we may proceed with the training of a MVAD model for the sample data previously uploaded in the corresponding container."
   ]
  },
  {
   "cell_type": "code",
   "execution_count": null,
   "metadata": {
    "application/vnd.databricks.v1+cell": {
     "cellMetadata": {
      "byteLimit": 2048000,
      "rowLimit": 10000
     },
     "inputWidgets": {},
     "nuid": "77572753-d36e-4f24-a3a5-7b73eb6c10e9",
     "showTitle": false,
     "title": ""
    }
   },
   "outputs": [
    {
     "name": "stdout",
     "output_type": "stream",
     "text": [
      "A new AD model was created with ID: c3a8c3bc-e917-11ed-bada-ee9e080c64ed. Please wait until the model is trained (status=READY).\n"
     ]
    }
   ],
   "source": [
    "# Start training a new model\n",
    "ad_model = ad_client.train_multivariate_model(train_body)\n",
    "# Get its ID\n",
    "model_id = ad_model.model_id\n",
    "print(f\"A new AD model was created with ID: {model_id}. Please wait until the model is trained (status=READY).\")"
   ]
  },
  {
   "cell_type": "markdown",
   "metadata": {
    "application/vnd.databricks.v1+cell": {
     "cellMetadata": {},
     "inputWidgets": {},
     "nuid": "8f5a900c-7bdf-40e4-aca9-34e08de31abc",
     "showTitle": false,
     "title": ""
    }
   },
   "source": [
    "At this point, the new model is being trained behind the shadows. By running the following cell's code, we can confirm this."
   ]
  },
  {
   "cell_type": "code",
   "execution_count": null,
   "metadata": {
    "application/vnd.databricks.v1+cell": {
     "cellMetadata": {
      "byteLimit": 2048000,
      "rowLimit": 10000
     },
     "inputWidgets": {},
     "nuid": "f7883aa5-038e-4228-93d4-8d7036f7287e",
     "showTitle": false,
     "title": ""
    }
   },
   "outputs": [
    {
     "name": "stdout",
     "output_type": "stream",
     "text": [
      "Model status: RUNNING\n"
     ]
    }
   ],
   "source": [
    "model_status = ad_client.get_multivariate_model(model_id).model_info.status\n",
    "print(f\"Model status: {model_status}\")"
   ]
  },
  {
   "cell_type": "markdown",
   "metadata": {
    "application/vnd.databricks.v1+cell": {
     "cellMetadata": {},
     "inputWidgets": {},
     "nuid": "5bf712fc-e501-4192-a9e6-a4f732e2d073",
     "showTitle": false,
     "title": ""
    }
   },
   "source": [
    "Instead of re-running this cell, we can define a loop that will perform the check for us and notify us once the model is truly ready. Once it is, we can also get some diagnostics."
   ]
  },
  {
   "cell_type": "code",
   "execution_count": null,
   "metadata": {
    "application/vnd.databricks.v1+cell": {
     "cellMetadata": {
      "byteLimit": 2048000,
      "rowLimit": 10000
     },
     "inputWidgets": {},
     "nuid": "85dd19c4-b489-41ce-b917-705c80554d13",
     "showTitle": false,
     "title": ""
    }
   },
   "outputs": [
    {
     "name": "stdout",
     "output_type": "stream",
     "text": [
      "The model is still in training mode. Please wait...\n",
      "Here is a list of current number of training epochs:\n",
      "[]\n",
      "The model is still in training mode. Please wait...\n",
      "Here is a list of current number of training epochs:\n",
      "[10, 20, 30]\n",
      "The model is still in training mode. Please wait...\n",
      "Here is a list of current number of training epochs:\n",
      "[10, 20, 30, 40, 50, 60, 70]\n",
      "The model has been successfully trained.\n",
      "\n",
      "Training Info:\n",
      "\n"
     ]
    },
    {
     "data": {
      "text/html": [
       "<style scoped>\n",
       "  .table-result-container {\n",
       "    max-height: 300px;\n",
       "    overflow: auto;\n",
       "  }\n",
       "  table, th, td {\n",
       "    border: 1px solid black;\n",
       "    border-collapse: collapse;\n",
       "  }\n",
       "  th, td {\n",
       "    padding: 5px;\n",
       "  }\n",
       "  th {\n",
       "    text-align: left;\n",
       "  }\n",
       "</style><div class='table-result-container'><table class='table-result'><thead style='background-color: white'><tr><th>epochIds</th><th>trainLosses</th><th>validationLosses</th><th>latenciesInSeconds</th></tr></thead><tbody><tr><td>10</td><td>0.5775564798553076</td><td>0.8278671625312468</td><td>1.1147723197937012</td></tr><tr><td>20</td><td>0.5705596167328103</td><td>0.6265384489745301</td><td>1.344914436340332</td></tr><tr><td>30</td><td>0.5613522269496961</td><td>0.6976657031708204</td><td>1.0915250778198242</td></tr><tr><td>40</td><td>0.5525602697660881</td><td>0.7443105535077345</td><td>1.3077692985534668</td></tr><tr><td>50</td><td>0.5769657905080489</td><td>0.63325916886849</td><td>1.5008914470672607</td></tr><tr><td>60</td><td>0.5589256643184595</td><td>0.658607994743071</td><td>1.0671508312225342</td></tr><tr><td>70</td><td>0.5603698659023004</td><td>0.5808213519646559</td><td>1.1045498847961426</td></tr><tr><td>80</td><td>0.5614311744991157</td><td>0.6329505604070089</td><td>1.0595669746398926</td></tr><tr><td>90</td><td>0.5586518652604094</td><td>0.6206884510870074</td><td>1.143542766571045</td></tr><tr><td>100</td><td>0.5636797646459725</td><td>0.6026435065165602</td><td>1.1360013484954834</td></tr></tbody></table></div>"
      ]
     },
     "metadata": {
      "application/vnd.databricks.v1+output": {
       "addedWidgets": {},
       "aggData": [],
       "aggError": "",
       "aggOverflow": false,
       "aggSchema": [],
       "aggSeriesLimitReached": false,
       "aggType": "",
       "arguments": {},
       "columnCustomDisplayInfos": {},
       "data": [
        [
         10,
         0.5775564798553076,
         0.8278671625312468,
         1.1147723197937012
        ],
        [
         20,
         0.5705596167328103,
         0.6265384489745301,
         1.344914436340332
        ],
        [
         30,
         0.5613522269496961,
         0.6976657031708204,
         1.0915250778198242
        ],
        [
         40,
         0.5525602697660881,
         0.7443105535077345,
         1.3077692985534668
        ],
        [
         50,
         0.5769657905080489,
         0.63325916886849,
         1.5008914470672607
        ],
        [
         60,
         0.5589256643184595,
         0.658607994743071,
         1.0671508312225342
        ],
        [
         70,
         0.5603698659023004,
         0.5808213519646559,
         1.1045498847961426
        ],
        [
         80,
         0.5614311744991157,
         0.6329505604070089,
         1.0595669746398926
        ],
        [
         90,
         0.5586518652604094,
         0.6206884510870074,
         1.143542766571045
        ],
        [
         100,
         0.5636797646459725,
         0.6026435065165602,
         1.1360013484954834
        ]
       ],
       "datasetInfos": [],
       "dbfsResultPath": null,
       "isJsonSchema": true,
       "metadata": {},
       "overflow": false,
       "plotOptions": {
        "customPlotOptions": {},
        "displayType": "table",
        "pivotAggregation": null,
        "pivotColumns": null,
        "xColumns": null,
        "yColumns": null
       },
       "removedWidgets": [],
       "schema": [
        {
         "metadata": "{}",
         "name": "epochIds",
         "type": "\"long\""
        },
        {
         "metadata": "{}",
         "name": "trainLosses",
         "type": "\"double\""
        },
        {
         "metadata": "{}",
         "name": "validationLosses",
         "type": "\"double\""
        },
        {
         "metadata": "{}",
         "name": "latenciesInSeconds",
         "type": "\"double\""
        }
       ],
       "type": "table"
      }
     },
     "output_type": "display_data"
    },
    {
     "name": "stdout",
     "output_type": "stream",
     "text": [
      "\n",
      "Variables Info:\n",
      "\n"
     ]
    },
    {
     "data": {
      "text/html": [
       "<style scoped>\n",
       "  .table-result-container {\n",
       "    max-height: 300px;\n",
       "    overflow: auto;\n",
       "  }\n",
       "  table, th, td {\n",
       "    border: 1px solid black;\n",
       "    border-collapse: collapse;\n",
       "  }\n",
       "  th, td {\n",
       "    padding: 5px;\n",
       "  }\n",
       "  th {\n",
       "    text-align: left;\n",
       "  }\n",
       "</style><div class='table-result-container'><table class='table-result'><thead style='background-color: white'><tr><th>variable</th><th>filledNARatio</th><th>effectiveCount</th><th>firstTimestamp</th><th>lastTimestamp</th></tr></thead><tbody><tr><td>opticalLFiltered</td><td>0.0</td><td>4730</td><td>2021-02-18T13:50:00Z</td><td>2021-03-23T10:00:00Z</td></tr><tr><td>opticalRFiltered</td><td>0.0</td><td>4730</td><td>2021-02-18T13:50:00Z</td><td>2021-03-23T10:00:00Z</td></tr><tr><td>pumpPressure</td><td>0.0</td><td>4730</td><td>2021-02-18T13:50:00Z</td><td>2021-03-23T10:00:00Z</td></tr><tr><td>rotational</td><td>0.0</td><td>4730</td><td>2021-02-18T13:50:00Z</td><td>2021-03-23T10:00:00Z</td></tr><tr><td>vibrationHorizon</td><td>0.0</td><td>4730</td><td>2021-02-18T13:50:00Z</td><td>2021-03-23T10:00:00Z</td></tr></tbody></table></div>"
      ]
     },
     "metadata": {
      "application/vnd.databricks.v1+output": {
       "addedWidgets": {},
       "aggData": [],
       "aggError": "",
       "aggOverflow": false,
       "aggSchema": [],
       "aggSeriesLimitReached": false,
       "aggType": "",
       "arguments": {},
       "columnCustomDisplayInfos": {},
       "data": [
        [
         "opticalLFiltered",
         0,
         4730,
         "2021-02-18T13:50:00Z",
         "2021-03-23T10:00:00Z"
        ],
        [
         "opticalRFiltered",
         0,
         4730,
         "2021-02-18T13:50:00Z",
         "2021-03-23T10:00:00Z"
        ],
        [
         "pumpPressure",
         0,
         4730,
         "2021-02-18T13:50:00Z",
         "2021-03-23T10:00:00Z"
        ],
        [
         "rotational",
         0,
         4730,
         "2021-02-18T13:50:00Z",
         "2021-03-23T10:00:00Z"
        ],
        [
         "vibrationHorizon",
         0,
         4730,
         "2021-02-18T13:50:00Z",
         "2021-03-23T10:00:00Z"
        ]
       ],
       "datasetInfos": [],
       "dbfsResultPath": null,
       "isJsonSchema": true,
       "metadata": {},
       "overflow": false,
       "plotOptions": {
        "customPlotOptions": {},
        "displayType": "table",
        "pivotAggregation": null,
        "pivotColumns": null,
        "xColumns": null,
        "yColumns": null
       },
       "removedWidgets": [],
       "schema": [
        {
         "metadata": "{}",
         "name": "variable",
         "type": "\"string\""
        },
        {
         "metadata": "{}",
         "name": "filledNARatio",
         "type": "\"double\""
        },
        {
         "metadata": "{}",
         "name": "effectiveCount",
         "type": "\"long\""
        },
        {
         "metadata": "{}",
         "name": "firstTimestamp",
         "type": "\"string\""
        },
        {
         "metadata": "{}",
         "name": "lastTimestamp",
         "type": "\"string\""
        }
       ],
       "type": "table"
      }
     },
     "output_type": "display_data"
    },
    {
     "name": "stdout",
     "output_type": "stream",
     "text": [
      "\n",
      "Model status: READY\n"
     ]
    }
   ],
   "source": [
    "while True:\n",
    "    # Perform a status request every 45 seconds, to see when the model is ready.\n",
    "    model_status = ad_client.get_multivariate_model(model_id).model_info.status\n",
    "\n",
    "    if model_status == 'READY':\n",
    "        print(\"The model has been successfully trained.\\n\")\n",
    "        break\n",
    "    else:\n",
    "        print(\"The model is still in training mode. Please wait...\")\n",
    "        epochs = ad_client.get_multivariate_model(model_id).model_info.diagnostics_info.model_state['epochIds']\n",
    "        print(\"Here is a list of current number of training epochs:\")\n",
    "        print(epochs)\n",
    "        time.sleep(45)\n",
    "\n",
    "# Print diagnostics once the model is ready\n",
    "minf = ad_client.get_multivariate_model(model_id).model_info\n",
    "\n",
    "print('Training Info:\\n')\n",
    "display(pd.DataFrame(minf['diagnosticsInfo']['modelState']))\n",
    "print(\"\\nVariables Info:\\n\")\n",
    "display(pd.DataFrame(minf['diagnosticsInfo']['variableStates']))\n",
    "print(f\"\\nModel status: {minf['status']}\")"
   ]
  },
  {
   "cell_type": "markdown",
   "metadata": {
    "application/vnd.databricks.v1+cell": {
     "cellMetadata": {},
     "inputWidgets": {},
     "nuid": "e2cd0c9e-797b-49fb-9ddd-f8472c38a9c4",
     "showTitle": false,
     "title": ""
    }
   },
   "source": [
    "With the model at hand, we may proceed to see other operations available in the Azure MVAD service. Before doing so, it is worth noting that the selection of a model or its properties requires the model's ID. Nonetheless, we may be more familiar with model names instead of IDs. If we can guarantee that every model's name is unique, the following function can be used to get the model's ID by using its name."
   ]
  },
  {
   "cell_type": "code",
   "execution_count": null,
   "metadata": {
    "application/vnd.databricks.v1+cell": {
     "cellMetadata": {
      "byteLimit": 2048000,
      "rowLimit": 10000
     },
     "inputWidgets": {},
     "nuid": "57ccd2cc-2346-49a3-9ba7-8d2dcd4e6a4f",
     "showTitle": false,
     "title": ""
    }
   },
   "outputs": [],
   "source": [
    "# This function should work as long as there is a unique name for each model, otherwise it only fetches the first result\n",
    "def get_model_id(client, model_name):\n",
    "\n",
    "    models = list(client.list_multivariate_models())\n",
    "\n",
    "    models_df = pd.DataFrame([{'Model ID': x['modelId'], \"Name\" : x['modelInfo']['displayName']} for x in models])\n",
    "\n",
    "    model_ids = models_df[models_df['Name']==model_name]['Model ID'].values\n",
    "    if len(model_ids) == 1:\n",
    "        model_id = model_ids[0]\n",
    "    elif len(model_ids) == 0:\n",
    "        print(\"No model with this name exists in the registry.\")\n",
    "        model_id = None\n",
    "    else:\n",
    "        print(\"Warning! There are more than one models with the given name.\")\n",
    "        print(\"Fetching the first among them.\")\n",
    "        model_id = model_ids[0]\n",
    "\n",
    "    return model_id"
   ]
  },
  {
   "cell_type": "markdown",
   "metadata": {
    "application/vnd.databricks.v1+cell": {
     "cellMetadata": {},
     "inputWidgets": {},
     "nuid": "8cd89b3d-d2d5-4cf4-b62f-0556c3405dc9",
     "showTitle": false,
     "title": ""
    }
   },
   "source": [
    "Let's see the model ID for the model we just created and trained:"
   ]
  },
  {
   "cell_type": "code",
   "execution_count": null,
   "metadata": {
    "application/vnd.databricks.v1+cell": {
     "cellMetadata": {
      "byteLimit": 2048000,
      "rowLimit": 10000
     },
     "inputWidgets": {},
     "nuid": "5ff0dda2-c09e-4065-89d0-5d24202f87d3",
     "showTitle": false,
     "title": ""
    }
   },
   "outputs": [
    {
     "name": "stdout",
     "output_type": "stream",
     "text": [
      "The ID of the newly trained model is c3a8c3bc-e917-11ed-bada-ee9e080c64ed.\n"
     ]
    }
   ],
   "source": [
    "model_id = get_model_id(ad_client, 'sample_model')\n",
    "print(f\"The ID of the newly trained model is {model_id}.\")"
   ]
  },
  {
   "cell_type": "markdown",
   "metadata": {
    "application/vnd.databricks.v1+cell": {
     "cellMetadata": {},
     "inputWidgets": {},
     "nuid": "16c905ba-d261-42f0-9f70-4b50cb58a6d7",
     "showTitle": false,
     "title": ""
    }
   },
   "source": [
    "### Inference\n",
    "\n",
    "The other main functionality is inference. In Azure MVAD there are two types of inference: batch and streaming, where each is self-explanatory. Streaming is oriented towards real-time problems, where each new point is classified as anomalous or not individually. For the purposes of our project, batch inference is the go-to, so we will focus on this in what follows. For more information about Streaming Inference you can refer [here](https://learn.microsoft.com/en-us/azure/cognitive-services/anomaly-detector/how-to/streaming-inference).\n",
    "\n",
    "As far as Batch Inference is concerned, we first define a `MultivariateBatchDetectionOptions` object, that takes as arguments the options for the batch inference to be performed. Its arguments can be seen in the next code cell."
   ]
  },
  {
   "cell_type": "code",
   "execution_count": null,
   "metadata": {
    "application/vnd.databricks.v1+cell": {
     "cellMetadata": {
      "byteLimit": 2048000,
      "rowLimit": 10000
     },
     "inputWidgets": {},
     "nuid": "a63b474a-8ef5-4927-b2c6-d54ad0497a42",
     "showTitle": false,
     "title": ""
    }
   },
   "outputs": [],
   "source": [
    "storage_name = \"REDACTED\"\n",
    "container_name = \"test-mvad\"\n",
    "data_file_name = \"sample.csv\"\n",
    "\n",
    "DATA_URL = f\"https://{storage_name}.blob.core.windows.net/{container_name}/{data_file_name}\"\n",
    "\n",
    "inf_start = \"2021-09-09T15:10:00Z\"\n",
    "inf_end = \"2021-09-14T23:20:00Z\"\n",
    "\n",
    "batch_inference_body = MultivariateBatchDetectionOptions(\n",
    "        # required - source link to the input data to indicate an accessible Azure storage URI\n",
    "        # The data schema should be exactly the same with those used in the training phase\n",
    "        data_source=DATA_URL,\n",
    "        # required - used to specify the number of top contributed variables for one\n",
    "        # anomalous timestamp in the response. The default number is 10.\n",
    "        top_contributor_count=10,\n",
    "        # required - indicates the start time of data for detection, which should be date-time of ISO 8601 format.\n",
    "        start_time=inf_start,\n",
    "        # required - indicates the end time of data for detection, which should be date-time of ISO 8601 format.\n",
    "        end_time=inf_end\n",
    "    )"
   ]
  },
  {
   "cell_type": "code",
   "execution_count": null,
   "metadata": {
    "application/vnd.databricks.v1+cell": {
     "cellMetadata": {
      "byteLimit": 2048000,
      "rowLimit": 10000
     },
     "inputWidgets": {},
     "nuid": "eb345231-825d-4dab-a062-c1e0e995db29",
     "showTitle": false,
     "title": ""
    }
   },
   "outputs": [
    {
     "name": "stdout",
     "output_type": "stream",
     "text": [
      "A batch inference is triggered with ID: 2b375f48-e918-11ed-b88a-1a5c9f1e1963. Please refer to the following cells for the results.\n"
     ]
    }
   ],
   "source": [
    "# Use the API to post the inference request\n",
    "inf_request = ad_client.detect_multivariate_batch_anomaly(model_id, batch_inference_body)\n",
    "result_id = inf_request.result_id\n",
    "print(f\"A batch inference is triggered with ID: {result_id}. Please refer to the following cells for the results.\")"
   ]
  },
  {
   "cell_type": "markdown",
   "metadata": {
    "application/vnd.databricks.v1+cell": {
     "cellMetadata": {},
     "inputWidgets": {},
     "nuid": "744e965b-504a-4402-b2cf-6b641d2b65eb",
     "showTitle": false,
     "title": ""
    }
   },
   "source": [
    "Similarly with the training process, the inference process might also take a while, depending on data types and sizes. We need to wait until the results are ready. Once they are, a different API call needs to be performed to obtain the results."
   ]
  },
  {
   "cell_type": "code",
   "execution_count": null,
   "metadata": {
    "application/vnd.databricks.v1+cell": {
     "cellMetadata": {
      "byteLimit": 2048000,
      "rowLimit": 10000
     },
     "inputWidgets": {},
     "nuid": "0137549e-1a87-4e00-b5cd-82cceb7bc337",
     "showTitle": false,
     "title": ""
    }
   },
   "outputs": [
    {
     "name": "stdout",
     "output_type": "stream",
     "text": [
      "The results are ready.\n",
      "\n",
      "Summary:\n",
      "\n"
     ]
    },
    {
     "data": {
      "text/html": [
       "<style scoped>\n",
       "  .table-result-container {\n",
       "    max-height: 300px;\n",
       "    overflow: auto;\n",
       "  }\n",
       "  table, th, td {\n",
       "    border: 1px solid black;\n",
       "    border-collapse: collapse;\n",
       "  }\n",
       "  th, td {\n",
       "    padding: 5px;\n",
       "  }\n",
       "  th {\n",
       "    text-align: left;\n",
       "  }\n",
       "</style><div class='table-result-container'><table class='table-result'><thead style='background-color: white'><tr><th>variable</th><th>filledNARatio</th><th>effectiveCount</th><th>firstTimestamp</th><th>lastTimestamp</th></tr></thead><tbody><tr><td>opticalLFiltered</td><td>0.0</td><td>770</td><td>2021-09-09T15:10:00Z</td><td>2021-09-14T23:20:00Z</td></tr><tr><td>opticalRFiltered</td><td>0.0</td><td>770</td><td>2021-09-09T15:10:00Z</td><td>2021-09-14T23:20:00Z</td></tr><tr><td>pumpPressure</td><td>0.0</td><td>770</td><td>2021-09-09T15:10:00Z</td><td>2021-09-14T23:20:00Z</td></tr><tr><td>rotational</td><td>0.0</td><td>770</td><td>2021-09-09T15:10:00Z</td><td>2021-09-14T23:20:00Z</td></tr><tr><td>vibrationHorizon</td><td>0.0</td><td>770</td><td>2021-09-09T15:10:00Z</td><td>2021-09-14T23:20:00Z</td></tr></tbody></table></div>"
      ]
     },
     "metadata": {
      "application/vnd.databricks.v1+output": {
       "addedWidgets": {},
       "aggData": [],
       "aggError": "",
       "aggOverflow": false,
       "aggSchema": [],
       "aggSeriesLimitReached": false,
       "aggType": "",
       "arguments": {},
       "columnCustomDisplayInfos": {},
       "data": [
        [
         "opticalLFiltered",
         0,
         770,
         "2021-09-09T15:10:00Z",
         "2021-09-14T23:20:00Z"
        ],
        [
         "opticalRFiltered",
         0,
         770,
         "2021-09-09T15:10:00Z",
         "2021-09-14T23:20:00Z"
        ],
        [
         "pumpPressure",
         0,
         770,
         "2021-09-09T15:10:00Z",
         "2021-09-14T23:20:00Z"
        ],
        [
         "rotational",
         0,
         770,
         "2021-09-09T15:10:00Z",
         "2021-09-14T23:20:00Z"
        ],
        [
         "vibrationHorizon",
         0,
         770,
         "2021-09-09T15:10:00Z",
         "2021-09-14T23:20:00Z"
        ]
       ],
       "datasetInfos": [],
       "dbfsResultPath": null,
       "isJsonSchema": true,
       "metadata": {},
       "overflow": false,
       "plotOptions": {
        "customPlotOptions": {},
        "displayType": "table",
        "pivotAggregation": null,
        "pivotColumns": null,
        "xColumns": null,
        "yColumns": null
       },
       "removedWidgets": [],
       "schema": [
        {
         "metadata": "{}",
         "name": "variable",
         "type": "\"string\""
        },
        {
         "metadata": "{}",
         "name": "filledNARatio",
         "type": "\"double\""
        },
        {
         "metadata": "{}",
         "name": "effectiveCount",
         "type": "\"long\""
        },
        {
         "metadata": "{}",
         "name": "firstTimestamp",
         "type": "\"string\""
        },
        {
         "metadata": "{}",
         "name": "lastTimestamp",
         "type": "\"string\""
        }
       ],
       "type": "table"
      }
     },
     "output_type": "display_data"
    }
   ],
   "source": [
    "while True:\n",
    "    # Perform a status request every 15 seconds, to see when the results are ready.\n",
    "    anomaly_results = ad_client.get_multivariate_batch_detection_result(result_id)\n",
    "\n",
    "    if anomaly_results['summary']['status'] == 'READY':\n",
    "        print(\"The results are ready.\\n\")\n",
    "        break\n",
    "    else:\n",
    "        print(\"Please wait further for the inference results...\")\n",
    "        time.sleep(15)\n",
    "\n",
    "# Print a summary when the results are ready.\n",
    "print('Summary:\\n')\n",
    "display(pd.DataFrame(anomaly_results['summary']['variableStates']))"
   ]
  },
  {
   "cell_type": "markdown",
   "metadata": {
    "application/vnd.databricks.v1+cell": {
     "cellMetadata": {},
     "inputWidgets": {},
     "nuid": "35b998a9-76e3-4101-aa6d-58173d4c0fbc",
     "showTitle": false,
     "title": ""
    }
   },
   "source": [
    "The `anomaly_results` object now holds the results of the batch inference process, which are stored in a dict-like format in `anomaly_results['results']`. The results in a DataFrame format can be seen by running the following cell. Of course, a dataframe of results is not the best medium of serving them, which is why we will also proceed with a visualization thereof in the last notebook of this series."
   ]
  },
  {
   "cell_type": "code",
   "execution_count": null,
   "metadata": {
    "application/vnd.databricks.v1+cell": {
     "cellMetadata": {
      "byteLimit": 2048000,
      "rowLimit": 10000
     },
     "inputWidgets": {},
     "nuid": "725e5bb6-ba91-4686-aaf1-dc4ee90429bd",
     "showTitle": false,
     "title": ""
    }
   },
   "outputs": [
    {
     "data": {
      "text/html": [
       "<div>\n",
       "<style scoped>\n",
       "    .dataframe tbody tr th:only-of-type {\n",
       "        vertical-align: middle;\n",
       "    }\n",
       "\n",
       "    .dataframe tbody tr th {\n",
       "        vertical-align: top;\n",
       "    }\n",
       "\n",
       "    .dataframe thead th {\n",
       "        text-align: right;\n",
       "    }\n",
       "</style>\n",
       "<table border=\"1\" class=\"dataframe\">\n",
       "  <thead>\n",
       "    <tr style=\"text-align: right;\">\n",
       "      <th></th>\n",
       "      <th>timestamp</th>\n",
       "      <th>isAnomaly</th>\n",
       "      <th>severity</th>\n",
       "      <th>score</th>\n",
       "      <th>interpretation</th>\n",
       "    </tr>\n",
       "  </thead>\n",
       "  <tbody>\n",
       "    <tr>\n",
       "      <th>0</th>\n",
       "      <td>2021-09-09 15:10:00+00:00</td>\n",
       "      <td>True</td>\n",
       "      <td>0.073315</td>\n",
       "      <td>0.125975</td>\n",
       "      <td>[{'variable': 'vibrationHorizon', 'contributio...</td>\n",
       "    </tr>\n",
       "    <tr>\n",
       "      <th>1</th>\n",
       "      <td>2021-09-09 15:20:00+00:00</td>\n",
       "      <td>True</td>\n",
       "      <td>0.104373</td>\n",
       "      <td>0.179341</td>\n",
       "      <td>[{'variable': 'vibrationHorizon', 'contributio...</td>\n",
       "    </tr>\n",
       "    <tr>\n",
       "      <th>2</th>\n",
       "      <td>2021-09-09 15:30:00+00:00</td>\n",
       "      <td>True</td>\n",
       "      <td>0.123244</td>\n",
       "      <td>0.211768</td>\n",
       "      <td>[{'variable': 'vibrationHorizon', 'contributio...</td>\n",
       "    </tr>\n",
       "    <tr>\n",
       "      <th>3</th>\n",
       "      <td>2021-09-09 15:40:00+00:00</td>\n",
       "      <td>True</td>\n",
       "      <td>0.119344</td>\n",
       "      <td>0.205067</td>\n",
       "      <td>[{'variable': 'opticalRFiltered', 'contributio...</td>\n",
       "    </tr>\n",
       "    <tr>\n",
       "      <th>4</th>\n",
       "      <td>2021-09-09 15:50:00+00:00</td>\n",
       "      <td>True</td>\n",
       "      <td>0.149478</td>\n",
       "      <td>0.256845</td>\n",
       "      <td>[{'variable': 'rotational', 'contributionScore...</td>\n",
       "    </tr>\n",
       "    <tr>\n",
       "      <th>...</th>\n",
       "      <td>...</td>\n",
       "      <td>...</td>\n",
       "      <td>...</td>\n",
       "      <td>...</td>\n",
       "      <td>...</td>\n",
       "    </tr>\n",
       "    <tr>\n",
       "      <th>765</th>\n",
       "      <td>2021-09-14 22:40:00+00:00</td>\n",
       "      <td>False</td>\n",
       "      <td>0.000000</td>\n",
       "      <td>0.010069</td>\n",
       "      <td>[]</td>\n",
       "    </tr>\n",
       "    <tr>\n",
       "      <th>766</th>\n",
       "      <td>2021-09-14 22:50:00+00:00</td>\n",
       "      <td>False</td>\n",
       "      <td>0.000000</td>\n",
       "      <td>0.010069</td>\n",
       "      <td>[]</td>\n",
       "    </tr>\n",
       "    <tr>\n",
       "      <th>767</th>\n",
       "      <td>2021-09-14 23:00:00+00:00</td>\n",
       "      <td>False</td>\n",
       "      <td>0.000000</td>\n",
       "      <td>0.010069</td>\n",
       "      <td>[]</td>\n",
       "    </tr>\n",
       "    <tr>\n",
       "      <th>768</th>\n",
       "      <td>2021-09-14 23:10:00+00:00</td>\n",
       "      <td>False</td>\n",
       "      <td>0.000000</td>\n",
       "      <td>0.010069</td>\n",
       "      <td>[]</td>\n",
       "    </tr>\n",
       "    <tr>\n",
       "      <th>769</th>\n",
       "      <td>2021-09-14 23:20:00+00:00</td>\n",
       "      <td>False</td>\n",
       "      <td>0.000000</td>\n",
       "      <td>0.010069</td>\n",
       "      <td>[]</td>\n",
       "    </tr>\n",
       "  </tbody>\n",
       "</table>\n",
       "<p>770 rows × 5 columns</p>\n",
       "</div>"
      ]
     },
     "metadata": {
      "application/vnd.databricks.v1+output": {
       "addedWidgets": {},
       "arguments": {},
       "data": "<div>\n<style scoped>\n    .dataframe tbody tr th:only-of-type {\n        vertical-align: middle;\n    }\n\n    .dataframe tbody tr th {\n        vertical-align: top;\n    }\n\n    .dataframe thead th {\n        text-align: right;\n    }\n</style>\n<table border=\"1\" class=\"dataframe\">\n  <thead>\n    <tr style=\"text-align: right;\">\n      <th></th>\n      <th>timestamp</th>\n      <th>isAnomaly</th>\n      <th>severity</th>\n      <th>score</th>\n      <th>interpretation</th>\n    </tr>\n  </thead>\n  <tbody>\n    <tr>\n      <th>0</th>\n      <td>2021-09-09 15:10:00+00:00</td>\n      <td>True</td>\n      <td>0.073315</td>\n      <td>0.125975</td>\n      <td>[{'variable': 'vibrationHorizon', 'contributio...</td>\n    </tr>\n    <tr>\n      <th>1</th>\n      <td>2021-09-09 15:20:00+00:00</td>\n      <td>True</td>\n      <td>0.104373</td>\n      <td>0.179341</td>\n      <td>[{'variable': 'vibrationHorizon', 'contributio...</td>\n    </tr>\n    <tr>\n      <th>2</th>\n      <td>2021-09-09 15:30:00+00:00</td>\n      <td>True</td>\n      <td>0.123244</td>\n      <td>0.211768</td>\n      <td>[{'variable': 'vibrationHorizon', 'contributio...</td>\n    </tr>\n    <tr>\n      <th>3</th>\n      <td>2021-09-09 15:40:00+00:00</td>\n      <td>True</td>\n      <td>0.119344</td>\n      <td>0.205067</td>\n      <td>[{'variable': 'opticalRFiltered', 'contributio...</td>\n    </tr>\n    <tr>\n      <th>4</th>\n      <td>2021-09-09 15:50:00+00:00</td>\n      <td>True</td>\n      <td>0.149478</td>\n      <td>0.256845</td>\n      <td>[{'variable': 'rotational', 'contributionScore...</td>\n    </tr>\n    <tr>\n      <th>...</th>\n      <td>...</td>\n      <td>...</td>\n      <td>...</td>\n      <td>...</td>\n      <td>...</td>\n    </tr>\n    <tr>\n      <th>765</th>\n      <td>2021-09-14 22:40:00+00:00</td>\n      <td>False</td>\n      <td>0.000000</td>\n      <td>0.010069</td>\n      <td>[]</td>\n    </tr>\n    <tr>\n      <th>766</th>\n      <td>2021-09-14 22:50:00+00:00</td>\n      <td>False</td>\n      <td>0.000000</td>\n      <td>0.010069</td>\n      <td>[]</td>\n    </tr>\n    <tr>\n      <th>767</th>\n      <td>2021-09-14 23:00:00+00:00</td>\n      <td>False</td>\n      <td>0.000000</td>\n      <td>0.010069</td>\n      <td>[]</td>\n    </tr>\n    <tr>\n      <th>768</th>\n      <td>2021-09-14 23:10:00+00:00</td>\n      <td>False</td>\n      <td>0.000000</td>\n      <td>0.010069</td>\n      <td>[]</td>\n    </tr>\n    <tr>\n      <th>769</th>\n      <td>2021-09-14 23:20:00+00:00</td>\n      <td>False</td>\n      <td>0.000000</td>\n      <td>0.010069</td>\n      <td>[]</td>\n    </tr>\n  </tbody>\n</table>\n<p>770 rows × 5 columns</p>\n</div>",
       "datasetInfos": [],
       "metadata": {},
       "removedWidgets": [],
       "textData": null,
       "type": "htmlSandbox"
      }
     },
     "output_type": "display_data"
    }
   ],
   "source": [
    "adf = pd.DataFrame([{'timestamp': x['timestamp'], **x['value']} for x in anomaly_results.results])\n",
    "adf['timestamp'] = pd.to_datetime(adf['timestamp'], utc=True)\n",
    "adf"
   ]
  },
  {
   "cell_type": "markdown",
   "metadata": {
    "application/vnd.databricks.v1+cell": {
     "cellMetadata": {
      "byteLimit": 2048000,
      "rowLimit": 10000
     },
     "inputWidgets": {},
     "nuid": "bf1aea71-af12-4666-bf6f-7aa3db261e01",
     "showTitle": false,
     "title": ""
    }
   },
   "source": [
    "We can see that the results consist of the following fields:\n",
    "\n",
    "- **isAnomaly**: the main field, indicating whether the given timestamp corresponds to an anomaly or not.\n",
    "- **severity**: indicates the significance of the anomaly. The higher the severity, the more significant the anomaly is. A new threshold can be assigned so that anomalies are not found simply by checking the boolean `isAnomaly`, but also by checking if their severity crosses said threshold.\n",
    "- **score**: raw anomaly, helps indicate the degree of abnormality as well. Notice that even non-anomalous points have a non-zero score, which is what makes this metric different from `severity`.\n",
    "- **interpretation**: The interpretation result corresponds to a list where the contribution of each feature for the inference is given. This contribution is given as a score, as well as in the form of a `~anomalydetector.models.CorrelationChanges` type object. This object is basically a list of other features, for which the correlation between themselves and the studied feature has changed, as detected by the model.\n",
    "\n",
    "### List available models\n",
    "\n",
    "Another thing we can do with the Python SDK for the MVAD Service is get a list of the available models."
   ]
  },
  {
   "cell_type": "code",
   "execution_count": null,
   "metadata": {
    "application/vnd.databricks.v1+cell": {
     "cellMetadata": {
      "byteLimit": 2048000,
      "rowLimit": 10000
     },
     "inputWidgets": {},
     "nuid": "76a252ad-a2f3-4ba2-9d3f-418dc2afaaba",
     "showTitle": false,
     "title": ""
    }
   },
   "outputs": [
    {
     "data": {
      "text/html": [
       "<style scoped>\n",
       "  .table-result-container {\n",
       "    max-height: 300px;\n",
       "    overflow: auto;\n",
       "  }\n",
       "  table, th, td {\n",
       "    border: 1px solid black;\n",
       "    border-collapse: collapse;\n",
       "  }\n",
       "  th, td {\n",
       "    padding: 5px;\n",
       "  }\n",
       "  th {\n",
       "    text-align: left;\n",
       "  }\n",
       "</style><div class='table-result-container'><table class='table-result'><thead style='background-color: white'><tr><th>Model ID</th><th>Created</th><th>Last Updated</th><th>Status</th><th>Name</th><th>Errors</th><th>Variables Count</th></tr></thead><tbody><tr><td>REDACTED</td><td>2023-05-02T18:32:59Z</td><td>2023-05-02T18:35:12Z</td><td>READY</td><td>sample_model</td><td>None</td><td>5</td></tr><tr><td>REDACTED</td><td>2022-12-13T17:47:32Z</td><td>2022-12-13T17:49:27Z</td><td>READY</td><td>MVADModel</td><td>None</td><td>3</td></tr></tbody></table></div>"
      ]
     },
     "metadata": {
      "application/vnd.databricks.v1+output": {
       "addedWidgets": {},
       "aggData": [],
       "aggError": "",
       "aggOverflow": false,
       "aggSchema": [],
       "aggSeriesLimitReached": false,
       "aggType": "",
       "arguments": {},
       "columnCustomDisplayInfos": {},
       "data": [
        [
         "REDACTED",
         "2023-05-02T18:32:59Z",
         "2023-05-02T18:35:12Z",
         "READY",
         "sample_model",
         "None",
         5
        ],
        [
         "REDACTED",
         "2022-12-13T17:47:32Z",
         "2022-12-13T17:49:27Z",
         "READY",
         "MVADModel",
         "None",
         3
        ]
       ],
       "datasetInfos": [],
       "dbfsResultPath": null,
       "isJsonSchema": true,
       "metadata": {},
       "overflow": false,
       "plotOptions": {
        "customPlotOptions": {},
        "displayType": "table",
        "pivotAggregation": null,
        "pivotColumns": null,
        "xColumns": null,
        "yColumns": null
       },
       "removedWidgets": [],
       "schema": [
        {
         "metadata": "{}",
         "name": "Model ID",
         "type": "\"string\""
        },
        {
         "metadata": "{}",
         "name": "Created",
         "type": "\"string\""
        },
        {
         "metadata": "{}",
         "name": "Last Updated",
         "type": "\"string\""
        },
        {
         "metadata": "{}",
         "name": "Status",
         "type": "\"string\""
        },
        {
         "metadata": "{}",
         "name": "Name",
         "type": "\"string\""
        },
        {
         "metadata": "{}",
         "name": "Errors",
         "type": "\"string\""
        },
        {
         "metadata": "{}",
         "name": "Variables Count",
         "type": "\"long\""
        }
       ],
       "type": "table"
      }
     },
     "output_type": "display_data"
    }
   ],
   "source": [
    "def display_models(client):\n",
    "    # The list_multivariate_models() method yields all the multivariate models that exist in the registry\n",
    "    models = list(client.list_multivariate_models())\n",
    "    # Cast the info we want to see in a dataframe\n",
    "    models_df = pd.DataFrame([{'Model ID': x['modelId'], \"Created\" : x['createdTime'], \"Last Updated\" : x['lastUpdatedTime'], \"Status\" : x['modelInfo']['status'], \"Name\" : x['modelInfo']['displayName'], \"Errors\" : x['modelInfo']['errors'] if x['modelInfo']['errors'] else \"None\", \"Variables Count\" : len(x['modelInfo']['diagnosticsInfo']['variableStates'])} for x in models])\n",
    "    # Display\n",
    "    display(models_df)\n",
    "    return\n",
    "\n",
    "display_models(ad_client)"
   ]
  },
  {
   "cell_type": "markdown",
   "metadata": {
    "application/vnd.databricks.v1+cell": {
     "cellMetadata": {},
     "inputWidgets": {},
     "nuid": "3ff4cd83-97d9-46d2-b6d1-3491d8fa9829",
     "showTitle": false,
     "title": ""
    }
   },
   "source": [
    "Here we can see the model we trained on the sample data, as well as an older model.\n",
    "\n",
    "### Delete model\n",
    "\n",
    "Using the `delete_multivariate_model()` method, we may delete the model we trained from the registry, by providing its id as an argument. For example, we can get the id of the model we just trained and delete it from the registry."
   ]
  },
  {
   "cell_type": "code",
   "execution_count": null,
   "metadata": {
    "application/vnd.databricks.v1+cell": {
     "cellMetadata": {
      "byteLimit": 2048000,
      "rowLimit": 10000
     },
     "inputWidgets": {},
     "nuid": "dcf553bb-ccd5-4e1c-8296-66d678200a2e",
     "showTitle": false,
     "title": ""
    }
   },
   "outputs": [],
   "source": [
    "model_id = 'c3a8c3bc-e917-11ed-bada-ee9e080c64ed' # <- Insert the ID of the model to be deleted\n",
    "\n",
    "ad_client.delete_multivariate_model(model_id)"
   ]
  },
  {
   "cell_type": "markdown",
   "metadata": {
    "application/vnd.databricks.v1+cell": {
     "cellMetadata": {},
     "inputWidgets": {},
     "nuid": "a856aab9-4fc5-4598-8d9c-8916b909e7af",
     "showTitle": false,
     "title": ""
    }
   },
   "source": [
    "If we now attempt to see again the list of available models, we will see that the model we trained has been successfully deleted."
   ]
  },
  {
   "cell_type": "code",
   "execution_count": null,
   "metadata": {
    "application/vnd.databricks.v1+cell": {
     "cellMetadata": {
      "byteLimit": 2048000,
      "rowLimit": 10000
     },
     "inputWidgets": {},
     "nuid": "21ca33ed-bd9f-4967-bce9-c4a7637f9435",
     "showTitle": false,
     "title": ""
    }
   },
   "outputs": [
    {
     "data": {
      "text/html": [
       "<style scoped>\n",
       "  .table-result-container {\n",
       "    max-height: 300px;\n",
       "    overflow: auto;\n",
       "  }\n",
       "  table, th, td {\n",
       "    border: 1px solid black;\n",
       "    border-collapse: collapse;\n",
       "  }\n",
       "  th, td {\n",
       "    padding: 5px;\n",
       "  }\n",
       "  th {\n",
       "    text-align: left;\n",
       "  }\n",
       "</style><div class='table-result-container'><table class='table-result'><thead style='background-color: white'><tr><th>Model ID</th><th>Created</th><th>Last Updated</th><th>Status</th><th>Name</th><th>Errors</th><th>Variables Count</th></tr></thead><tbody><tr><td>REDACTED</td><td>2022-12-13T17:47:32Z</td><td>2022-12-13T17:49:27Z</td><td>READY</td><td>MVADModel</td><td>None</td><td>3</td></tr></tbody></table></div>"
      ]
     },
     "metadata": {
      "application/vnd.databricks.v1+output": {
       "addedWidgets": {},
       "aggData": [],
       "aggError": "",
       "aggOverflow": false,
       "aggSchema": [],
       "aggSeriesLimitReached": false,
       "aggType": "",
       "arguments": {},
       "columnCustomDisplayInfos": {},
       "data": [
        [
         "REDACTED",
         "2022-12-13T17:47:32Z",
         "2022-12-13T17:49:27Z",
         "READY",
         "MVADModel",
         "None",
         3
        ]
       ],
       "datasetInfos": [],
       "dbfsResultPath": null,
       "isJsonSchema": true,
       "metadata": {},
       "overflow": false,
       "plotOptions": {
        "customPlotOptions": {},
        "displayType": "table",
        "pivotAggregation": null,
        "pivotColumns": null,
        "xColumns": null,
        "yColumns": null
       },
       "removedWidgets": [],
       "schema": [
        {
         "metadata": "{}",
         "name": "Model ID",
         "type": "\"string\""
        },
        {
         "metadata": "{}",
         "name": "Created",
         "type": "\"string\""
        },
        {
         "metadata": "{}",
         "name": "Last Updated",
         "type": "\"string\""
        },
        {
         "metadata": "{}",
         "name": "Status",
         "type": "\"string\""
        },
        {
         "metadata": "{}",
         "name": "Name",
         "type": "\"string\""
        },
        {
         "metadata": "{}",
         "name": "Errors",
         "type": "\"string\""
        },
        {
         "metadata": "{}",
         "name": "Variables Count",
         "type": "\"long\""
        }
       ],
       "type": "table"
      }
     },
     "output_type": "display_data"
    }
   ],
   "source": [
    "display_models(ad_client)"
   ]
  },
  {
   "cell_type": "markdown",
   "metadata": {
    "application/vnd.databricks.v1+cell": {
     "cellMetadata": {},
     "inputWidgets": {},
     "nuid": "3984f2a7-34b0-4670-aeca-d9cfc944edd6",
     "showTitle": false,
     "title": ""
    }
   },
   "source": [
    "This sums up the main functionalities of the MVAD Service using the Python SDK. Please refer to the next notebook for how to use the Service using the API, as well as the third notebook for visualization examples."
   ]
  }
 ],
 "metadata": {
  "application/vnd.databricks.v1+notebook": {
   "dashboards": [],
   "language": "python",
   "notebookMetadata": {
    "pythonIndentUnit": 4
   },
   "notebookName": "Azure MVAD Service Guide - Part I (Python SDK)",
   "notebookOrigID": 720525923728132,
   "widgets": {}
  },
  "kernelspec": {
   "display_name": "Python 3",
   "language": "python",
   "name": "python3"
  },
  "language_info": {
   "codemirror_mode": {
    "name": "ipython",
    "version": 3
   },
   "file_extension": ".py",
   "mimetype": "text/x-python",
   "name": "python",
   "nbconvert_exporter": "python",
   "pygments_lexer": "ipython3",
   "version": "3.8.8"
  }
 },
 "nbformat": 4,
 "nbformat_minor": 4
}
