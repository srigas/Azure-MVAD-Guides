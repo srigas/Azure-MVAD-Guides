{
 "cells": [
  {
   "cell_type": "markdown",
   "metadata": {
    "application/vnd.databricks.v1+cell": {
     "cellMetadata": {},
     "inputWidgets": {},
     "nuid": "ac3bc70c-a0f6-4bbf-b756-4f50345306d8",
     "showTitle": false,
     "title": ""
    }
   },
   "source": [
    "# Azure MVAD Service Guide - Part II (Python API)"
   ]
  },
  {
   "cell_type": "markdown",
   "metadata": {
    "application/vnd.databricks.v1+cell": {
     "cellMetadata": {},
     "inputWidgets": {},
     "nuid": "4a2f022a-c2d9-499e-bc0d-504ebd0ef585",
     "showTitle": false,
     "title": ""
    }
   },
   "source": [
    "What follows is a guide via example on how to use Azure's MVAD Service. Make sure to check the service's documentation [here](https://learn.microsoft.com/en-us/azure/cognitive-services/anomaly-detector/overview), as well as the code provided [here](https://github.com/Azure-Samples/AnomalyDetector). Note that there are two approaches to using the MVAD Service: via the SDK and via the API. The latter is presented in this notebook."
   ]
  },
  {
   "cell_type": "markdown",
   "metadata": {
    "application/vnd.databricks.v1+cell": {
     "cellMetadata": {},
     "inputWidgets": {},
     "nuid": "57c80df9-e7ec-4299-9f0f-50c8933c5084",
     "showTitle": false,
     "title": ""
    }
   },
   "source": [
    "## Initial Setup\n",
    "\n",
    "To use the MVAD Service we obviously need to create an [Anomaly Detector subscription](https://azure.microsoft.com/en-us/free/cognitive-services/), as well as create an [Anomaly Detector resource](https://ms.portal.azure.com/#create/Microsoft.CognitiveServicesAnomalyDetector). From the created resource, we need the endpoint's name, as well as the key. For safety, the key can be inserted into an Azure Key Vault and read from there by creating a [secret scope in Databricks](https://learn.microsoft.com/en-us/azure/databricks/security/secrets/secret-scopes). Additionally, a Storage Account is required, from where the data are drawn to perform anomaly detection. The MVAD Service (Managed Identity) must have the Storage Blob Data Reader role assigned to it in order to be able to draw data from the Storage Account.\n",
    "\n",
    "For the purposes of the present demonstration, we create a new Container named `test-mvad` in the Storage Account present in the same resource group and send the [sample data](https://github.com/Azure-Samples/AnomalyDetector/blob/master/sampledata/multivariate/multivariate_sample_data.csv) that are going to be used as an example. The MVAD Service accepts data in both multi-table (one `.csv` file for each feature) and single-table (a single `.csv` file with multiple columns, one per feature plus the timestamp columns) forms, but we opt to work with the single-table approach."
   ]
  },
  {
   "cell_type": "code",
   "execution_count": null,
   "metadata": {
    "application/vnd.databricks.v1+cell": {
     "cellMetadata": {
      "byteLimit": 2048000,
      "rowLimit": 10000
     },
     "inputWidgets": {},
     "nuid": "6c198ed7-ce28-4aa2-830f-1f38bcc3d73f",
     "showTitle": false,
     "title": ""
    }
   },
   "outputs": [
    {
     "data": {
      "application/vnd.databricks.v1+bamboolib_hint": "{\"pd.DataFrames\": [], \"version\": \"0.0.1\"}",
      "text/plain": []
     },
     "metadata": {},
     "output_type": "display_data"
    }
   ],
   "source": [
    "import json\n",
    "import requests\n",
    "import time\n",
    "import pandas as pd"
   ]
  },
  {
   "cell_type": "markdown",
   "metadata": {
    "application/vnd.databricks.v1+cell": {
     "cellMetadata": {
      "byteLimit": 2048000,
      "rowLimit": 10000
     },
     "inputWidgets": {},
     "nuid": "63225480-c85f-453d-aeb7-379ccd449080",
     "showTitle": false,
     "title": ""
    }
   },
   "source": [
    "The following library needs to be installed. Note that its installation can be attached to the startup of a specific cluster that runs the present notebook, or to a script that is activated whenever the cluster starts."
   ]
  },
  {
   "cell_type": "code",
   "execution_count": null,
   "metadata": {
    "application/vnd.databricks.v1+cell": {
     "cellMetadata": {
      "byteLimit": 2048000,
      "rowLimit": 10000
     },
     "inputWidgets": {},
     "nuid": "c5c5a93b-0126-45a5-be13-0c35a9bbc3b9",
     "showTitle": false,
     "title": ""
    }
   },
   "outputs": [],
   "source": [
    "#!pip install --upgrade azure-ai-anomalydetector"
   ]
  },
  {
   "cell_type": "markdown",
   "metadata": {
    "application/vnd.databricks.v1+cell": {
     "cellMetadata": {},
     "inputWidgets": {},
     "nuid": "ff9fa5ad-2dd9-49f9-a345-049260744a3c",
     "showTitle": false,
     "title": ""
    }
   },
   "source": [
    "## Setup\n",
    "\n",
    "First, we setup all the necessary variables. Something important to note here is that the endpoint used for the MVAD Service is different compared to the one used in the previous notebook (`/anomalydetector/v1.1` is added to the previous endpoint)."
   ]
  },
  {
   "cell_type": "code",
   "execution_count": null,
   "metadata": {
    "application/vnd.databricks.v1+cell": {
     "cellMetadata": {
      "byteLimit": 2048000,
      "rowLimit": 10000
     },
     "inputWidgets": {},
     "nuid": "c3db20d3-89df-482a-b68d-3bb8d5244636",
     "showTitle": false,
     "title": ""
    }
   },
   "outputs": [],
   "source": [
    "# Setup the variables\n",
    "ad_name = \"REDACTED\"\n",
    "ENDPOINT = f\"https://{ad_name}.cognitiveservices.azure.com/anomalydetector/v1.1\"\n",
    "HEADERS = {\"Ocp-Apim-Subscription-Key\": dbutils.secrets.get(scope = \"anomdet\", key = \"adkey\")}\n",
    "\n",
    "# If the data is one CSV file, set the dataSchema as `OneTable`\n",
    "# If the data is multiple CSV files in a folder, set the dataSchema as `MultiTable`.\n",
    "DATA_SCHEMA=\"OneTable\"\n",
    "\n",
    "#%%%%%%------------------------\n",
    "\n",
    "# MVAD-related requests\n",
    "API_MODEL = \"{endpoint}/multivariate/models\"\n",
    "API_MODEL_STATUS = \"{endpoint}/multivariate/models/{model_id}\"\n",
    "API_MODEL_BATCH_INFERENCE = \"{endpoint}/multivariate/models/{model_id}:detect-batch\"\n",
    "API_RESULTS = \"{endpoint}/multivariate/detect-batch/{result_id}\"\n",
    "API_DELETE = \"{endpoint}/multivariate/models/{model_id}\"\n",
    "\n",
    "# Data source\n",
    "# WARNING! Make sure to grant 'Storage Blob Data Reader' role to the Anomaly Detector\n",
    "# otherwise a FailToAccessBlobURLError occurs.\n",
    "# Steps:\n",
    "# [1] Find the storage service\n",
    "# [2] Go to Access Control(IAM), and select +ADD to Add role assignment.\n",
    "# [3] Search role of Storage Blob Data Reader, click on it and then select Next.\n",
    "# [4] Select assign access to Managed identity, and Select Members, then choose the anomaly detector resource, Review + assign.\n",
    "\n",
    "blobname = \"REDACTED\"\n",
    "containername = \"test-mvad\"\n",
    "filename = \"sample.csv\"\n",
    "DATA_SOURCE_URL = f\"https://{blobname}.blob.core.windows.net/{containername}/{filename}\""
   ]
  },
  {
   "cell_type": "markdown",
   "metadata": {
    "application/vnd.databricks.v1+cell": {
     "cellMetadata": {
      "byteLimit": 2048000,
      "rowLimit": 10000
     },
     "inputWidgets": {},
     "nuid": "956dfd83-be7e-4247-afbd-31040a13b8fa",
     "showTitle": false,
     "title": ""
    }
   },
   "source": [
    "## Basic Functionalities\n",
    "\n",
    "We can proceed to see some of the basic functionalities of the MVAD Service.\n",
    "\n",
    "### Training\n",
    "\n",
    "The first and perhaps most important one is the training of the model. This is done using the `API_MODEL` API."
   ]
  },
  {
   "cell_type": "code",
   "execution_count": null,
   "metadata": {
    "application/vnd.databricks.v1+cell": {
     "cellMetadata": {
      "byteLimit": 2048000,
      "rowLimit": 10000
     },
     "inputWidgets": {},
     "nuid": "8ce277f2-50f2-4e9f-8515-4063cb370681",
     "showTitle": false,
     "title": ""
    }
   },
   "outputs": [
    {
     "name": "stdout",
     "output_type": "stream",
     "text": [
      "The created model's ID is 036c7f2e-e91e-11ed-ba0c-567fe128847f.\n",
      "Check the model's status using the next cell.\n"
     ]
    }
   ],
   "source": [
    "# Parameters for training\n",
    "SLIDING_WINDOW = 200 # Number of data points used to determine anomalies (default = 200). Equal to the segment used to decide if the next data point is an anomaly\n",
    "ALIGN_MODE = 'Outer' # How to pick timestamps when the CSVs have different timestamps\n",
    "FILL_NA = 'Linear' # How to fill missing values - this case does not concern the mock dataset\n",
    "PADDING = 0 # Only relevant for 'Fixed' FILL_NA\n",
    "\n",
    "MODEL_NAME = 'sample_model' # Model display name\n",
    "\n",
    "TRAINING_START_TIME = \"2021-02-18T13:50:00Z\" # Start time of training/inference\n",
    "TRAINING_END_TIME = \"2021-03-23T10:00:00Z\" # End time of training/inference\n",
    "\n",
    "train_params = {\n",
    "    \"slidingWindow\": SLIDING_WINDOW,\n",
    "    \"alignPolicy\": {\n",
    "        \"alignMode\": ALIGN_MODE,\n",
    "        \"fillNAMethod\": FILL_NA, \n",
    "        \"paddingValue\": PADDING\n",
    "    },\n",
    "    \"dataSource\": DATA_SOURCE_URL,\n",
    "    \"dataSchema\": DATA_SCHEMA,\n",
    "    \"startTime\": TRAINING_START_TIME, \n",
    "    \"endTime\": TRAINING_END_TIME, \n",
    "    \"displayName\": MODEL_NAME\n",
    "}\n",
    "\n",
    "# Request to start training the model\n",
    "train_req = requests.post(API_MODEL.format(endpoint=ENDPOINT), data=json.dumps(train_params), headers=HEADERS)\n",
    "# Print the following line to get the epochId. There are 100 epochIds in total.\n",
    "#print(json.loads(train_req.content))\n",
    "# Get model location\n",
    "location = train_req.headers['Location']\n",
    "# The location is used in order to get the model_id\n",
    "model_id = location[location.rindex('/')+1:]\n",
    "print(f\"The created model's ID is {model_id}.\\nCheck the model's status using the next cell.\")"
   ]
  },
  {
   "cell_type": "markdown",
   "metadata": {
    "application/vnd.databricks.v1+cell": {
     "cellMetadata": {},
     "inputWidgets": {},
     "nuid": "e815e698-b680-4a02-97a0-fe76f2f728b0",
     "showTitle": false,
     "title": ""
    }
   },
   "source": [
    "At this point, the new model is being trained behind the shadows. We can define a loop that will perform a check for us and notify us once the model is truly ready. Once it is, we can also get some diagnostics."
   ]
  },
  {
   "cell_type": "code",
   "execution_count": null,
   "metadata": {
    "application/vnd.databricks.v1+cell": {
     "cellMetadata": {
      "byteLimit": 2048000,
      "rowLimit": 10000
     },
     "inputWidgets": {},
     "nuid": "77572753-d36e-4f24-a3a5-7b73eb6c10e9",
     "showTitle": false,
     "title": ""
    }
   },
   "outputs": [
    {
     "name": "stdout",
     "output_type": "stream",
     "text": [
      "The model is still in training mode. Please wait...\n",
      "The model is still in training mode. Please wait...\n",
      "The model is still in training mode. Please wait...\n",
      "The model is still in training mode. Please wait...\n",
      "The model has been successfully trained.\n",
      "\n",
      "Training Info:\n",
      "\n"
     ]
    },
    {
     "data": {
      "text/html": [
       "<style scoped>\n",
       "  .table-result-container {\n",
       "    max-height: 300px;\n",
       "    overflow: auto;\n",
       "  }\n",
       "  table, th, td {\n",
       "    border: 1px solid black;\n",
       "    border-collapse: collapse;\n",
       "  }\n",
       "  th, td {\n",
       "    padding: 5px;\n",
       "  }\n",
       "  th {\n",
       "    text-align: left;\n",
       "  }\n",
       "</style><div class='table-result-container'><table class='table-result'><thead style='background-color: white'><tr><th>epochIds</th><th>trainLosses</th><th>validationLosses</th><th>latenciesInSeconds</th></tr></thead><tbody><tr><td>10</td><td>0.5775568356205311</td><td>0.8278930401953871</td><td>1.4413204193115234</td></tr><tr><td>20</td><td>0.5704785206222108</td><td>0.6260857462843046</td><td>1.3562369346618652</td></tr><tr><td>30</td><td>0.5613284353832049</td><td>0.6929799669569523</td><td>1.3472182750701904</td></tr><tr><td>40</td><td>0.5523706069881362</td><td>0.7389550165500463</td><td>1.432410478591919</td></tr><tr><td>50</td><td>0.5777624892736121</td><td>0.629393915648275</td><td>1.4331724643707275</td></tr><tr><td>60</td><td>0.5588577846730395</td><td>0.6556564748546873</td><td>1.4484691619873047</td></tr><tr><td>70</td><td>0.5595402237959206</td><td>0.5841600478454505</td><td>1.3884916305541992</td></tr><tr><td>80</td><td>0.5608177969365247</td><td>0.6237323151017482</td><td>1.3792550563812256</td></tr><tr><td>90</td><td>0.5589803169215364</td><td>0.6192049300023442</td><td>1.413428544998169</td></tr><tr><td>100</td><td>0.5633129495462137</td><td>0.6043745457961276</td><td>1.416254997253418</td></tr></tbody></table></div>"
      ]
     },
     "metadata": {
      "application/vnd.databricks.v1+output": {
       "addedWidgets": {},
       "aggData": [],
       "aggError": "",
       "aggOverflow": false,
       "aggSchema": [],
       "aggSeriesLimitReached": false,
       "aggType": "",
       "arguments": {},
       "columnCustomDisplayInfos": {},
       "data": [
        [
         10,
         0.5775568356205311,
         0.8278930401953871,
         1.4413204193115234
        ],
        [
         20,
         0.5704785206222108,
         0.6260857462843046,
         1.3562369346618652
        ],
        [
         30,
         0.5613284353832049,
         0.6929799669569523,
         1.3472182750701904
        ],
        [
         40,
         0.5523706069881362,
         0.7389550165500463,
         1.432410478591919
        ],
        [
         50,
         0.5777624892736121,
         0.629393915648275,
         1.4331724643707275
        ],
        [
         60,
         0.5588577846730395,
         0.6556564748546873,
         1.4484691619873047
        ],
        [
         70,
         0.5595402237959206,
         0.5841600478454505,
         1.3884916305541992
        ],
        [
         80,
         0.5608177969365247,
         0.6237323151017482,
         1.3792550563812256
        ],
        [
         90,
         0.5589803169215364,
         0.6192049300023442,
         1.413428544998169
        ],
        [
         100,
         0.5633129495462137,
         0.6043745457961276,
         1.416254997253418
        ]
       ],
       "datasetInfos": [],
       "dbfsResultPath": null,
       "isJsonSchema": true,
       "metadata": {},
       "overflow": false,
       "plotOptions": {
        "customPlotOptions": {},
        "displayType": "table",
        "pivotAggregation": null,
        "pivotColumns": null,
        "xColumns": null,
        "yColumns": null
       },
       "removedWidgets": [],
       "schema": [
        {
         "metadata": "{}",
         "name": "epochIds",
         "type": "\"long\""
        },
        {
         "metadata": "{}",
         "name": "trainLosses",
         "type": "\"double\""
        },
        {
         "metadata": "{}",
         "name": "validationLosses",
         "type": "\"double\""
        },
        {
         "metadata": "{}",
         "name": "latenciesInSeconds",
         "type": "\"double\""
        }
       ],
       "type": "table"
      }
     },
     "output_type": "display_data"
    },
    {
     "name": "stdout",
     "output_type": "stream",
     "text": [
      "\n",
      "Variables Info:\n",
      "\n"
     ]
    },
    {
     "data": {
      "text/html": [
       "<style scoped>\n",
       "  .table-result-container {\n",
       "    max-height: 300px;\n",
       "    overflow: auto;\n",
       "  }\n",
       "  table, th, td {\n",
       "    border: 1px solid black;\n",
       "    border-collapse: collapse;\n",
       "  }\n",
       "  th, td {\n",
       "    padding: 5px;\n",
       "  }\n",
       "  th {\n",
       "    text-align: left;\n",
       "  }\n",
       "</style><div class='table-result-container'><table class='table-result'><thead style='background-color: white'><tr><th>variable</th><th>filledNARatio</th><th>effectiveCount</th><th>firstTimestamp</th><th>lastTimestamp</th></tr></thead><tbody><tr><td>opticalLFiltered</td><td>0.0</td><td>4730</td><td>2021-02-18T13:50:00Z</td><td>2021-03-23T10:00:00Z</td></tr><tr><td>opticalRFiltered</td><td>0.0</td><td>4730</td><td>2021-02-18T13:50:00Z</td><td>2021-03-23T10:00:00Z</td></tr><tr><td>pumpPressure</td><td>0.0</td><td>4730</td><td>2021-02-18T13:50:00Z</td><td>2021-03-23T10:00:00Z</td></tr><tr><td>rotational</td><td>0.0</td><td>4730</td><td>2021-02-18T13:50:00Z</td><td>2021-03-23T10:00:00Z</td></tr><tr><td>vibrationHorizon</td><td>0.0</td><td>4730</td><td>2021-02-18T13:50:00Z</td><td>2021-03-23T10:00:00Z</td></tr></tbody></table></div>"
      ]
     },
     "metadata": {
      "application/vnd.databricks.v1+output": {
       "addedWidgets": {},
       "aggData": [],
       "aggError": "",
       "aggOverflow": false,
       "aggSchema": [],
       "aggSeriesLimitReached": false,
       "aggType": "",
       "arguments": {},
       "columnCustomDisplayInfos": {},
       "data": [
        [
         "opticalLFiltered",
         0,
         4730,
         "2021-02-18T13:50:00Z",
         "2021-03-23T10:00:00Z"
        ],
        [
         "opticalRFiltered",
         0,
         4730,
         "2021-02-18T13:50:00Z",
         "2021-03-23T10:00:00Z"
        ],
        [
         "pumpPressure",
         0,
         4730,
         "2021-02-18T13:50:00Z",
         "2021-03-23T10:00:00Z"
        ],
        [
         "rotational",
         0,
         4730,
         "2021-02-18T13:50:00Z",
         "2021-03-23T10:00:00Z"
        ],
        [
         "vibrationHorizon",
         0,
         4730,
         "2021-02-18T13:50:00Z",
         "2021-03-23T10:00:00Z"
        ]
       ],
       "datasetInfos": [],
       "dbfsResultPath": null,
       "isJsonSchema": true,
       "metadata": {},
       "overflow": false,
       "plotOptions": {
        "customPlotOptions": {},
        "displayType": "table",
        "pivotAggregation": null,
        "pivotColumns": null,
        "xColumns": null,
        "yColumns": null
       },
       "removedWidgets": [],
       "schema": [
        {
         "metadata": "{}",
         "name": "variable",
         "type": "\"string\""
        },
        {
         "metadata": "{}",
         "name": "filledNARatio",
         "type": "\"double\""
        },
        {
         "metadata": "{}",
         "name": "effectiveCount",
         "type": "\"long\""
        },
        {
         "metadata": "{}",
         "name": "firstTimestamp",
         "type": "\"string\""
        },
        {
         "metadata": "{}",
         "name": "lastTimestamp",
         "type": "\"string\""
        }
       ],
       "type": "table"
      }
     },
     "output_type": "display_data"
    },
    {
     "name": "stdout",
     "output_type": "stream",
     "text": [
      "\n",
      "Model status: READY\n"
     ]
    }
   ],
   "source": [
    "while True:\n",
    "    # Perform a status request every 20 seconds, to see when the model is ready.\n",
    "    status_req = requests.get(API_MODEL_STATUS.format(endpoint=ENDPOINT, model_id = model_id), headers=HEADERS)\n",
    "\n",
    "    res_content = json.loads(status_req.content)\n",
    "    if res_content['modelInfo']['status'] == 'READY':\n",
    "        print(\"The model has been successfully trained.\\n\")\n",
    "        break\n",
    "    else:\n",
    "        print(\"The model is still in training mode. Please wait...\")\n",
    "        time.sleep(45)\n",
    "\n",
    "# Print diagnostics once the model is ready\n",
    "print('Training Info:\\n')\n",
    "display(pd.DataFrame(res_content['modelInfo']['diagnosticsInfo']['modelState']))\n",
    "print(\"\\nVariables Info:\\n\")\n",
    "display(pd.DataFrame(res_content['modelInfo']['diagnosticsInfo']['variableStates']))\n",
    "print(f\"\\nModel status: {res_content['modelInfo']['status']}\")"
   ]
  },
  {
   "cell_type": "markdown",
   "metadata": {
    "application/vnd.databricks.v1+cell": {
     "cellMetadata": {},
     "inputWidgets": {},
     "nuid": "16c905ba-d261-42f0-9f70-4b50cb58a6d7",
     "showTitle": false,
     "title": ""
    }
   },
   "source": [
    "### Inference\n",
    "\n",
    "The other main functionality is inference. In Azure MVAD there are two types of inference: batch and streaming, where each is self-explanatory. Streaming is oriented towards real-time problems, where each new point is classified as anomalous or not individually. For the purposes of our project, batch inference is the go-to, so we will focus on this in what follows. For more information about Streaming Inference you can refer [here](https://learn.microsoft.com/en-us/azure/cognitive-services/anomaly-detector/how-to/streaming-inference)."
   ]
  },
  {
   "cell_type": "code",
   "execution_count": null,
   "metadata": {
    "application/vnd.databricks.v1+cell": {
     "cellMetadata": {
      "byteLimit": 2048000,
      "rowLimit": 10000
     },
     "inputWidgets": {},
     "nuid": "a63b474a-8ef5-4927-b2c6-d54ad0497a42",
     "showTitle": false,
     "title": ""
    }
   },
   "outputs": [
    {
     "name": "stdout",
     "output_type": "stream",
     "text": [
      "A batch inference is triggered with the result id: 7aa6c612-e91e-11ed-a041-c676e9936544.\n",
      "Refer to the next cell for the detection results.\n"
     ]
    }
   ],
   "source": [
    "# Parameters for inference\n",
    "INFERENCE_START_TIME = \"2021-09-09T15:10:00Z\"\n",
    "INFERENCE_END_TIME = \"2021-09-14T23:20:00Z\"\n",
    "\n",
    "# topContributorCount: how many contributed variables we care about in the results\n",
    "inf_params = {\n",
    "    \"dataSource\": DATA_SOURCE_URL,\n",
    "    \"topContributorCount\": 10,\n",
    "    \"startTime\": INFERENCE_START_TIME,\n",
    "    \"endTime\": INFERENCE_END_TIME\n",
    "}\n",
    "\n",
    "# Request to start inference\n",
    "inf_req = requests.post(API_MODEL_BATCH_INFERENCE.format(endpoint=ENDPOINT, model_id=model_id), data=json.dumps(inf_params), headers=HEADERS)\n",
    "\n",
    "# Get the id for the result file\n",
    "result_id = inf_req.headers[\"operation-id\"]\n",
    "print(f\"A batch inference is triggered with the result id: {result_id}.\\nRefer to the next cell for the detection results.\")"
   ]
  },
  {
   "cell_type": "markdown",
   "metadata": {
    "application/vnd.databricks.v1+cell": {
     "cellMetadata": {},
     "inputWidgets": {},
     "nuid": "744e965b-504a-4402-b2cf-6b641d2b65eb",
     "showTitle": false,
     "title": ""
    }
   },
   "source": [
    "Similarly with the training process, the inference process might also take a while, depending on data types and sizes. We need to wait until the results are ready. Once they are, a different API call needs to be performed to obtain the results."
   ]
  },
  {
   "cell_type": "code",
   "execution_count": null,
   "metadata": {
    "application/vnd.databricks.v1+cell": {
     "cellMetadata": {
      "byteLimit": 2048000,
      "rowLimit": 10000
     },
     "inputWidgets": {},
     "nuid": "0137549e-1a87-4e00-b5cd-82cceb7bc337",
     "showTitle": false,
     "title": ""
    }
   },
   "outputs": [
    {
     "name": "stdout",
     "output_type": "stream",
     "text": [
      "The model is not ready yet. Still inferring...\n",
      "The inference results are ready.\n",
      "\n",
      "\n",
      "------------------ Summary ------------------ \n"
     ]
    },
    {
     "data": {
      "text/html": [
       "<style scoped>\n",
       "  .table-result-container {\n",
       "    max-height: 300px;\n",
       "    overflow: auto;\n",
       "  }\n",
       "  table, th, td {\n",
       "    border: 1px solid black;\n",
       "    border-collapse: collapse;\n",
       "  }\n",
       "  th, td {\n",
       "    padding: 5px;\n",
       "  }\n",
       "  th {\n",
       "    text-align: left;\n",
       "  }\n",
       "</style><div class='table-result-container'><table class='table-result'><thead style='background-color: white'><tr><th>variable</th><th>filledNARatio</th><th>effectiveCount</th><th>firstTimestamp</th><th>lastTimestamp</th></tr></thead><tbody><tr><td>opticalLFiltered</td><td>0.0</td><td>770</td><td>2021-09-09T15:10:00Z</td><td>2021-09-14T23:20:00Z</td></tr><tr><td>opticalRFiltered</td><td>0.0</td><td>770</td><td>2021-09-09T15:10:00Z</td><td>2021-09-14T23:20:00Z</td></tr><tr><td>pumpPressure</td><td>0.0</td><td>770</td><td>2021-09-09T15:10:00Z</td><td>2021-09-14T23:20:00Z</td></tr><tr><td>rotational</td><td>0.0</td><td>770</td><td>2021-09-09T15:10:00Z</td><td>2021-09-14T23:20:00Z</td></tr><tr><td>vibrationHorizon</td><td>0.0</td><td>770</td><td>2021-09-09T15:10:00Z</td><td>2021-09-14T23:20:00Z</td></tr></tbody></table></div>"
      ]
     },
     "metadata": {
      "application/vnd.databricks.v1+output": {
       "addedWidgets": {},
       "aggData": [],
       "aggError": "",
       "aggOverflow": false,
       "aggSchema": [],
       "aggSeriesLimitReached": false,
       "aggType": "",
       "arguments": {},
       "columnCustomDisplayInfos": {},
       "data": [
        [
         "opticalLFiltered",
         0,
         770,
         "2021-09-09T15:10:00Z",
         "2021-09-14T23:20:00Z"
        ],
        [
         "opticalRFiltered",
         0,
         770,
         "2021-09-09T15:10:00Z",
         "2021-09-14T23:20:00Z"
        ],
        [
         "pumpPressure",
         0,
         770,
         "2021-09-09T15:10:00Z",
         "2021-09-14T23:20:00Z"
        ],
        [
         "rotational",
         0,
         770,
         "2021-09-09T15:10:00Z",
         "2021-09-14T23:20:00Z"
        ],
        [
         "vibrationHorizon",
         0,
         770,
         "2021-09-09T15:10:00Z",
         "2021-09-14T23:20:00Z"
        ]
       ],
       "datasetInfos": [],
       "dbfsResultPath": null,
       "isJsonSchema": true,
       "metadata": {},
       "overflow": false,
       "plotOptions": {
        "customPlotOptions": {},
        "displayType": "table",
        "pivotAggregation": null,
        "pivotColumns": null,
        "xColumns": null,
        "yColumns": null
       },
       "removedWidgets": [],
       "schema": [
        {
         "metadata": "{}",
         "name": "variable",
         "type": "\"string\""
        },
        {
         "metadata": "{}",
         "name": "filledNARatio",
         "type": "\"double\""
        },
        {
         "metadata": "{}",
         "name": "effectiveCount",
         "type": "\"long\""
        },
        {
         "metadata": "{}",
         "name": "firstTimestamp",
         "type": "\"string\""
        },
        {
         "metadata": "{}",
         "name": "lastTimestamp",
         "type": "\"string\""
        }
       ],
       "type": "table"
      }
     },
     "output_type": "display_data"
    }
   ],
   "source": [
    "# Retrieve the inference result\n",
    "while True:\n",
    "    retr_req = requests.get(API_RESULTS.format(endpoint=ENDPOINT, result_id=result_id), headers=HEADERS)\n",
    "    retr_cont = json.loads(retr_req.content)\n",
    "    \n",
    "    if retr_cont['summary']['status'] == 'RUNNING':\n",
    "        print('The model is not ready yet. Still inferring...')\n",
    "        time.sleep(15)\n",
    "    else:\n",
    "        print(\"The inference results are ready.\\n\")\n",
    "        break\n",
    "        \n",
    "print('\\n------------------ Summary ------------------ ')\n",
    "display(pd.DataFrame(retr_cont['summary']['variableStates']))"
   ]
  },
  {
   "cell_type": "markdown",
   "metadata": {
    "application/vnd.databricks.v1+cell": {
     "cellMetadata": {},
     "inputWidgets": {},
     "nuid": "35b998a9-76e3-4101-aa6d-58173d4c0fbc",
     "showTitle": false,
     "title": ""
    }
   },
   "source": [
    "The results in a DataFrame format can be seen by running the following cell. Of course, a dataframe of results is not the best medium of serving them, which is why we will also proceed with a visualization thereof in the following notebook."
   ]
  },
  {
   "cell_type": "code",
   "execution_count": null,
   "metadata": {
    "application/vnd.databricks.v1+cell": {
     "cellMetadata": {
      "byteLimit": 2048000,
      "rowLimit": 10000
     },
     "inputWidgets": {},
     "nuid": "07ffdc7e-c9cc-499b-9c9f-ef66c526d544",
     "showTitle": false,
     "title": ""
    }
   },
   "outputs": [
    {
     "data": {
      "text/html": [
       "<div>\n",
       "<style scoped>\n",
       "    .dataframe tbody tr th:only-of-type {\n",
       "        vertical-align: middle;\n",
       "    }\n",
       "\n",
       "    .dataframe tbody tr th {\n",
       "        vertical-align: top;\n",
       "    }\n",
       "\n",
       "    .dataframe thead th {\n",
       "        text-align: right;\n",
       "    }\n",
       "</style>\n",
       "<table border=\"1\" class=\"dataframe\">\n",
       "  <thead>\n",
       "    <tr style=\"text-align: right;\">\n",
       "      <th></th>\n",
       "      <th>timestamp</th>\n",
       "      <th>isAnomaly</th>\n",
       "      <th>severity</th>\n",
       "      <th>score</th>\n",
       "      <th>interpretation</th>\n",
       "    </tr>\n",
       "  </thead>\n",
       "  <tbody>\n",
       "    <tr>\n",
       "      <th>0</th>\n",
       "      <td>2021-09-09 15:10:00+00:00</td>\n",
       "      <td>True</td>\n",
       "      <td>0.067947</td>\n",
       "      <td>0.116752</td>\n",
       "      <td>[{'variable': 'vibrationHorizon', 'contributio...</td>\n",
       "    </tr>\n",
       "    <tr>\n",
       "      <th>1</th>\n",
       "      <td>2021-09-09 15:20:00+00:00</td>\n",
       "      <td>True</td>\n",
       "      <td>0.096815</td>\n",
       "      <td>0.166356</td>\n",
       "      <td>[{'variable': 'vibrationHorizon', 'contributio...</td>\n",
       "    </tr>\n",
       "    <tr>\n",
       "      <th>2</th>\n",
       "      <td>2021-09-09 15:30:00+00:00</td>\n",
       "      <td>True</td>\n",
       "      <td>0.111642</td>\n",
       "      <td>0.191832</td>\n",
       "      <td>[{'variable': 'vibrationHorizon', 'contributio...</td>\n",
       "    </tr>\n",
       "    <tr>\n",
       "      <th>3</th>\n",
       "      <td>2021-09-09 15:40:00+00:00</td>\n",
       "      <td>True</td>\n",
       "      <td>0.102313</td>\n",
       "      <td>0.175803</td>\n",
       "      <td>[{'variable': 'opticalRFiltered', 'contributio...</td>\n",
       "    </tr>\n",
       "    <tr>\n",
       "      <th>4</th>\n",
       "      <td>2021-09-09 15:50:00+00:00</td>\n",
       "      <td>True</td>\n",
       "      <td>0.113587</td>\n",
       "      <td>0.195174</td>\n",
       "      <td>[{'variable': 'rotational', 'contributionScore...</td>\n",
       "    </tr>\n",
       "    <tr>\n",
       "      <th>...</th>\n",
       "      <td>...</td>\n",
       "      <td>...</td>\n",
       "      <td>...</td>\n",
       "      <td>...</td>\n",
       "      <td>...</td>\n",
       "    </tr>\n",
       "    <tr>\n",
       "      <th>765</th>\n",
       "      <td>2021-09-14 22:40:00+00:00</td>\n",
       "      <td>False</td>\n",
       "      <td>0.000000</td>\n",
       "      <td>0.015003</td>\n",
       "      <td>[]</td>\n",
       "    </tr>\n",
       "    <tr>\n",
       "      <th>766</th>\n",
       "      <td>2021-09-14 22:50:00+00:00</td>\n",
       "      <td>False</td>\n",
       "      <td>0.000000</td>\n",
       "      <td>0.015003</td>\n",
       "      <td>[]</td>\n",
       "    </tr>\n",
       "    <tr>\n",
       "      <th>767</th>\n",
       "      <td>2021-09-14 23:00:00+00:00</td>\n",
       "      <td>False</td>\n",
       "      <td>0.000000</td>\n",
       "      <td>0.015003</td>\n",
       "      <td>[]</td>\n",
       "    </tr>\n",
       "    <tr>\n",
       "      <th>768</th>\n",
       "      <td>2021-09-14 23:10:00+00:00</td>\n",
       "      <td>False</td>\n",
       "      <td>0.000000</td>\n",
       "      <td>0.015003</td>\n",
       "      <td>[]</td>\n",
       "    </tr>\n",
       "    <tr>\n",
       "      <th>769</th>\n",
       "      <td>2021-09-14 23:20:00+00:00</td>\n",
       "      <td>False</td>\n",
       "      <td>0.000000</td>\n",
       "      <td>0.015003</td>\n",
       "      <td>[]</td>\n",
       "    </tr>\n",
       "  </tbody>\n",
       "</table>\n",
       "<p>770 rows × 5 columns</p>\n",
       "</div>"
      ]
     },
     "metadata": {
      "application/vnd.databricks.v1+output": {
       "addedWidgets": {},
       "arguments": {},
       "data": "<div>\n<style scoped>\n    .dataframe tbody tr th:only-of-type {\n        vertical-align: middle;\n    }\n\n    .dataframe tbody tr th {\n        vertical-align: top;\n    }\n\n    .dataframe thead th {\n        text-align: right;\n    }\n</style>\n<table border=\"1\" class=\"dataframe\">\n  <thead>\n    <tr style=\"text-align: right;\">\n      <th></th>\n      <th>timestamp</th>\n      <th>isAnomaly</th>\n      <th>severity</th>\n      <th>score</th>\n      <th>interpretation</th>\n    </tr>\n  </thead>\n  <tbody>\n    <tr>\n      <th>0</th>\n      <td>2021-09-09 15:10:00+00:00</td>\n      <td>True</td>\n      <td>0.067947</td>\n      <td>0.116752</td>\n      <td>[{'variable': 'vibrationHorizon', 'contributio...</td>\n    </tr>\n    <tr>\n      <th>1</th>\n      <td>2021-09-09 15:20:00+00:00</td>\n      <td>True</td>\n      <td>0.096815</td>\n      <td>0.166356</td>\n      <td>[{'variable': 'vibrationHorizon', 'contributio...</td>\n    </tr>\n    <tr>\n      <th>2</th>\n      <td>2021-09-09 15:30:00+00:00</td>\n      <td>True</td>\n      <td>0.111642</td>\n      <td>0.191832</td>\n      <td>[{'variable': 'vibrationHorizon', 'contributio...</td>\n    </tr>\n    <tr>\n      <th>3</th>\n      <td>2021-09-09 15:40:00+00:00</td>\n      <td>True</td>\n      <td>0.102313</td>\n      <td>0.175803</td>\n      <td>[{'variable': 'opticalRFiltered', 'contributio...</td>\n    </tr>\n    <tr>\n      <th>4</th>\n      <td>2021-09-09 15:50:00+00:00</td>\n      <td>True</td>\n      <td>0.113587</td>\n      <td>0.195174</td>\n      <td>[{'variable': 'rotational', 'contributionScore...</td>\n    </tr>\n    <tr>\n      <th>...</th>\n      <td>...</td>\n      <td>...</td>\n      <td>...</td>\n      <td>...</td>\n      <td>...</td>\n    </tr>\n    <tr>\n      <th>765</th>\n      <td>2021-09-14 22:40:00+00:00</td>\n      <td>False</td>\n      <td>0.000000</td>\n      <td>0.015003</td>\n      <td>[]</td>\n    </tr>\n    <tr>\n      <th>766</th>\n      <td>2021-09-14 22:50:00+00:00</td>\n      <td>False</td>\n      <td>0.000000</td>\n      <td>0.015003</td>\n      <td>[]</td>\n    </tr>\n    <tr>\n      <th>767</th>\n      <td>2021-09-14 23:00:00+00:00</td>\n      <td>False</td>\n      <td>0.000000</td>\n      <td>0.015003</td>\n      <td>[]</td>\n    </tr>\n    <tr>\n      <th>768</th>\n      <td>2021-09-14 23:10:00+00:00</td>\n      <td>False</td>\n      <td>0.000000</td>\n      <td>0.015003</td>\n      <td>[]</td>\n    </tr>\n    <tr>\n      <th>769</th>\n      <td>2021-09-14 23:20:00+00:00</td>\n      <td>False</td>\n      <td>0.000000</td>\n      <td>0.015003</td>\n      <td>[]</td>\n    </tr>\n  </tbody>\n</table>\n<p>770 rows × 5 columns</p>\n</div>",
       "datasetInfos": [],
       "metadata": {},
       "removedWidgets": [],
       "textData": null,
       "type": "htmlSandbox"
      }
     },
     "output_type": "display_data"
    }
   ],
   "source": [
    "adf = pd.DataFrame([{'timestamp': x['timestamp'], **x['value']} for x in retr_cont['results']])\n",
    "adf['timestamp'] = pd.to_datetime(adf['timestamp'], utc=True)\n",
    "adf"
   ]
  },
  {
   "cell_type": "markdown",
   "metadata": {
    "application/vnd.databricks.v1+cell": {
     "cellMetadata": {
      "byteLimit": 2048000,
      "rowLimit": 10000
     },
     "inputWidgets": {},
     "nuid": "bf1aea71-af12-4666-bf6f-7aa3db261e01",
     "showTitle": false,
     "title": ""
    }
   },
   "source": [
    "We can see that the results consist of the following fields:\n",
    "\n",
    "- **isAnomaly**: the main field, indicating whether the given timestamp corresponds to an anomaly or not.\n",
    "- **severity**: indicates the significance of the anomaly. The higher the severity, the more significant the anomaly is. A new threshold can be assigned so that anomalies are not found simply by checking the boolean `isAnomaly`, but also by checking if their severity crosses said threshold.\n",
    "- **score**: raw anomaly, helps indicate the degree of abnormality as well. Notice that even non-anomalous points have a non-zero score, which is what makes this metric different from `severity`.\n",
    "- **interpretation**: The interpretation result corresponds to a list where the contribution of each feature for the inference is given. This contribution is given as a score, as well as in the form of a `~anomalydetector.models.CorrelationChanges` type object. This object is basically a list of other features, for which the correlation between themselves and the studied feature has changed, as detected by the model.\n",
    "\n",
    "### List available models\n",
    "\n",
    "Another thing we can do is get a list of the available models."
   ]
  },
  {
   "cell_type": "code",
   "execution_count": null,
   "metadata": {
    "application/vnd.databricks.v1+cell": {
     "cellMetadata": {
      "byteLimit": 2048000,
      "rowLimit": 10000
     },
     "inputWidgets": {},
     "nuid": "76a252ad-a2f3-4ba2-9d3f-418dc2afaaba",
     "showTitle": false,
     "title": ""
    }
   },
   "outputs": [
    {
     "data": {
      "text/html": [
       "<style scoped>\n",
       "  .table-result-container {\n",
       "    max-height: 300px;\n",
       "    overflow: auto;\n",
       "  }\n",
       "  table, th, td {\n",
       "    border: 1px solid black;\n",
       "    border-collapse: collapse;\n",
       "  }\n",
       "  th, td {\n",
       "    padding: 5px;\n",
       "  }\n",
       "  th {\n",
       "    text-align: left;\n",
       "  }\n",
       "</style><div class='table-result-container'><table class='table-result'><thead style='background-color: white'><tr><th>Model ID</th><th>Created</th><th>Last Updated</th><th>Status</th><th>Name</th><th>Errors</th><th>Variables Count</th></tr></thead><tbody><tr><td>REDACTED</td><td>2023-05-02T19:17:43Z</td><td>2023-05-02T19:20:14Z</td><td>READY</td><td>sample_model</td><td>None</td><td>5</td></tr><tr><td>REDACTED</td><td>2022-12-13T17:47:32Z</td><td>2022-12-13T17:49:27Z</td><td>READY</td><td>MVADModel</td><td>None</td><td>3</td></tr></tbody></table></div>"
      ]
     },
     "metadata": {
      "application/vnd.databricks.v1+output": {
       "addedWidgets": {},
       "aggData": [],
       "aggError": "",
       "aggOverflow": false,
       "aggSchema": [],
       "aggSeriesLimitReached": false,
       "aggType": "",
       "arguments": {},
       "columnCustomDisplayInfos": {},
       "data": [
        [
         "REDACTED",
         "2023-05-02T19:17:43Z",
         "2023-05-02T19:20:14Z",
         "READY",
         "sample_model",
         "None",
         5
        ],
        [
         "REDACTED",
         "2022-12-13T17:47:32Z",
         "2022-12-13T17:49:27Z",
         "READY",
         "MVADModel",
         "None",
         3
        ]
       ],
       "datasetInfos": [],
       "dbfsResultPath": null,
       "isJsonSchema": true,
       "metadata": {},
       "overflow": false,
       "plotOptions": {
        "customPlotOptions": {},
        "displayType": "table",
        "pivotAggregation": null,
        "pivotColumns": null,
        "xColumns": null,
        "yColumns": null
       },
       "removedWidgets": [],
       "schema": [
        {
         "metadata": "{}",
         "name": "Model ID",
         "type": "\"string\""
        },
        {
         "metadata": "{}",
         "name": "Created",
         "type": "\"string\""
        },
        {
         "metadata": "{}",
         "name": "Last Updated",
         "type": "\"string\""
        },
        {
         "metadata": "{}",
         "name": "Status",
         "type": "\"string\""
        },
        {
         "metadata": "{}",
         "name": "Name",
         "type": "\"string\""
        },
        {
         "metadata": "{}",
         "name": "Errors",
         "type": "\"string\""
        },
        {
         "metadata": "{}",
         "name": "Variables Count",
         "type": "\"long\""
        }
       ],
       "type": "table"
      }
     },
     "output_type": "display_data"
    }
   ],
   "source": [
    "# Get a list + info for the existing models\n",
    "avaib_models = requests.get(API_MODEL.format(endpoint=ENDPOINT), headers=HEADERS)\n",
    "\n",
    "resp = json.loads(avaib_models.content)\n",
    "\n",
    "try:\n",
    "    models_df = pd.DataFrame([{'Model ID': x['modelId'], \"Created\" : x['createdTime'], \"Last Updated\" : x['lastUpdatedTime'], \"Status\" : x['modelInfo']['status'], \"Name\" : x['modelInfo']['displayName'], \"Errors\" : x['modelInfo']['errors'] if x['modelInfo']['errors'] else \"None\", \"Variables Count\" : len(x['modelInfo']['diagnosticsInfo']['variableStates'])} for x in resp['models']])\n",
    "\n",
    "    display(models_df)\n",
    "except IndexError:\n",
    "    print(\"There are no models available to show.\")"
   ]
  },
  {
   "cell_type": "markdown",
   "metadata": {
    "application/vnd.databricks.v1+cell": {
     "cellMetadata": {},
     "inputWidgets": {},
     "nuid": "3ff4cd83-97d9-46d2-b6d1-3491d8fa9829",
     "showTitle": false,
     "title": ""
    }
   },
   "source": [
    "Here we can see the model we trained on the sample data, as well as an older model.\n",
    "\n",
    "### Delete model\n",
    "\n",
    "Using the `API_DELETE` API, we may delete the model we trained from the registry, by providing its id as an argument. For example, we can get the id of the model we just trained and delete it from the registry."
   ]
  },
  {
   "cell_type": "code",
   "execution_count": null,
   "metadata": {
    "application/vnd.databricks.v1+cell": {
     "cellMetadata": {
      "byteLimit": 2048000,
      "rowLimit": 10000
     },
     "inputWidgets": {},
     "nuid": "dcf553bb-ccd5-4e1c-8296-66d678200a2e",
     "showTitle": false,
     "title": ""
    }
   },
   "outputs": [],
   "source": [
    "model_id = '036c7f2e-e91e-11ed-ba0c-567fe128847f' # <- insert string of ModelId to be deleted\n",
    "\n",
    "delete_res = requests.delete(API_DELETE.format(endpoint=ENDPOINT, model_id=model_id), headers=HEADERS)"
   ]
  },
  {
   "cell_type": "markdown",
   "metadata": {
    "application/vnd.databricks.v1+cell": {
     "cellMetadata": {},
     "inputWidgets": {},
     "nuid": "a856aab9-4fc5-4598-8d9c-8916b909e7af",
     "showTitle": false,
     "title": ""
    }
   },
   "source": [
    "If we now attempt to see again the list of available models, we will see that the model we trained has been successfully deleted."
   ]
  },
  {
   "cell_type": "code",
   "execution_count": null,
   "metadata": {
    "application/vnd.databricks.v1+cell": {
     "cellMetadata": {
      "byteLimit": 2048000,
      "rowLimit": 10000
     },
     "inputWidgets": {},
     "nuid": "21ca33ed-bd9f-4967-bce9-c4a7637f9435",
     "showTitle": false,
     "title": ""
    }
   },
   "outputs": [
    {
     "data": {
      "text/html": [
       "<style scoped>\n",
       "  .table-result-container {\n",
       "    max-height: 300px;\n",
       "    overflow: auto;\n",
       "  }\n",
       "  table, th, td {\n",
       "    border: 1px solid black;\n",
       "    border-collapse: collapse;\n",
       "  }\n",
       "  th, td {\n",
       "    padding: 5px;\n",
       "  }\n",
       "  th {\n",
       "    text-align: left;\n",
       "  }\n",
       "</style><div class='table-result-container'><table class='table-result'><thead style='background-color: white'><tr><th>Model ID</th><th>Created</th><th>Last Updated</th><th>Status</th><th>Name</th><th>Errors</th><th>Variables Count</th></tr></thead><tbody><tr><td>REDACTED</td><td>2022-12-13T17:47:32Z</td><td>2022-12-13T17:49:27Z</td><td>READY</td><td>MVADModel</td><td>None</td><td>3</td></tr></tbody></table></div>"
      ]
     },
     "metadata": {
      "application/vnd.databricks.v1+output": {
       "addedWidgets": {},
       "aggData": [],
       "aggError": "",
       "aggOverflow": false,
       "aggSchema": [],
       "aggSeriesLimitReached": false,
       "aggType": "",
       "arguments": {},
       "columnCustomDisplayInfos": {},
       "data": [
        [
         "REDACTED",
         "2022-12-13T17:47:32Z",
         "2022-12-13T17:49:27Z",
         "READY",
         "MVADModel",
         "None",
         3
        ]
       ],
       "datasetInfos": [],
       "dbfsResultPath": null,
       "isJsonSchema": true,
       "metadata": {},
       "overflow": false,
       "plotOptions": {
        "customPlotOptions": {},
        "displayType": "table",
        "pivotAggregation": null,
        "pivotColumns": null,
        "xColumns": null,
        "yColumns": null
       },
       "removedWidgets": [],
       "schema": [
        {
         "metadata": "{}",
         "name": "Model ID",
         "type": "\"string\""
        },
        {
         "metadata": "{}",
         "name": "Created",
         "type": "\"string\""
        },
        {
         "metadata": "{}",
         "name": "Last Updated",
         "type": "\"string\""
        },
        {
         "metadata": "{}",
         "name": "Status",
         "type": "\"string\""
        },
        {
         "metadata": "{}",
         "name": "Name",
         "type": "\"string\""
        },
        {
         "metadata": "{}",
         "name": "Errors",
         "type": "\"string\""
        },
        {
         "metadata": "{}",
         "name": "Variables Count",
         "type": "\"long\""
        }
       ],
       "type": "table"
      }
     },
     "output_type": "display_data"
    }
   ],
   "source": [
    "# Get a list + info for the existing models\n",
    "avaib_models = requests.get(API_MODEL.format(endpoint=ENDPOINT), headers=HEADERS)\n",
    "\n",
    "resp = json.loads(avaib_models.content)\n",
    "\n",
    "try:\n",
    "    models_df = pd.DataFrame([{'Model ID': x['modelId'], \"Created\" : x['createdTime'], \"Last Updated\" : x['lastUpdatedTime'], \"Status\" : x['modelInfo']['status'], \"Name\" : x['modelInfo']['displayName'], \"Errors\" : x['modelInfo']['errors'] if x['modelInfo']['errors'] else \"None\", \"Variables Count\" : len(x['modelInfo']['diagnosticsInfo']['variableStates'])} for x in resp['models']])\n",
    "    \n",
    "    display(models_df)\n",
    "except IndexError:\n",
    "    print(\"There are no models available to show.\")"
   ]
  },
  {
   "cell_type": "markdown",
   "metadata": {
    "application/vnd.databricks.v1+cell": {
     "cellMetadata": {},
     "inputWidgets": {},
     "nuid": "2ca9b0a3-217d-467f-9721-21fea0e03bfe",
     "showTitle": false,
     "title": ""
    }
   },
   "source": [
    "This sums up the main functionalities of the MVAD Service using the Python API. Please refer to the previous notebook for how to use the Service using the SDK, as well as the following notebook for visualization examples."
   ]
  }
 ],
 "metadata": {
  "application/vnd.databricks.v1+notebook": {
   "dashboards": [],
   "language": "python",
   "notebookMetadata": {
    "pythonIndentUnit": 4
   },
   "notebookName": "Azure MVAD Service Guide - Part ΙI (Python API)",
   "notebookOrigID": 226046746194217,
   "widgets": {}
  },
  "kernelspec": {
   "display_name": "Python 3",
   "language": "python",
   "name": "python3"
  },
  "language_info": {
   "codemirror_mode": {
    "name": "ipython",
    "version": 3
   },
   "file_extension": ".py",
   "mimetype": "text/x-python",
   "name": "python",
   "nbconvert_exporter": "python",
   "pygments_lexer": "ipython3",
   "version": "3.8.8"
  }
 },
 "nbformat": 4,
 "nbformat_minor": 4
}
